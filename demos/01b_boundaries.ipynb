{
 "cells": [
  {
   "cell_type": "markdown",
   "id": "e6a4d526-1947-4b48-ad6d-4117d5458965",
   "metadata": {},
   "source": [
    "# Plot boundaries\n"
   ]
  },
  {
   "cell_type": "markdown",
   "id": "92ea69f8-0d6e-4f8b-b23a-8b726784eac5",
   "metadata": {},
   "source": [
    "## Setup\n",
    "\n",
    "Import the following packages:"
   ]
  },
  {
   "cell_type": "code",
   "execution_count": 1,
   "id": "65432af9-5992-4688-9a3a-24a6c995b0e7",
   "metadata": {},
   "outputs": [],
   "source": [
    "import numpy as np\n",
    "import pandas as pd\n",
    "\n",
    "import geopandas\n",
    "import matplotlib.pyplot as plt\n",
    "import matplotlib.patches as mpatches"
   ]
  },
  {
   "cell_type": "markdown",
   "id": "11e5e21d-1382-4dba-87be-fe6ace4a93e0",
   "metadata": {},
   "source": [
    "Look for data in these places:"
   ]
  },
  {
   "cell_type": "code",
   "execution_count": 2,
   "id": "4a53a972-6408-4ab3-a5a1-cea5fca08d14",
   "metadata": {},
   "outputs": [],
   "source": [
    "paths = dict(\n",
    "    dir_data_input = '../data_example/',\n",
    "    dir_data_geojson = '../data_geojson/ons_data/',\n",
    "    dir_data_tabular = '../data_tabular/',\n",
    "    values_file = 'example_lsoa_englandwales.csv',\n",
    "    lsoa_geojson = 'LSOA_(Dec_2011)_Boundaries_Super_Generalised_Clipped_(BSC)_EW_V3.geojson',\n",
    "    lsoa_regions = 'LSOA_regions.csv',\n",
    "    stroke_hospitals = 'stroke_hospitals_2022.csv'\n",
    ")"
   ]
  },
  {
   "cell_type": "markdown",
   "id": "5f36efa5-de82-4ba5-9767-71c57beada25",
   "metadata": {},
   "source": [
    "Read in this file of region information for each LSOA. It includes the following data:\n",
    "\n",
    "| Column name | Description | Usage |\n",
    "| --- | --- | --- | \n",
    "| LSOA11 CD / NM | LSOA 2011 codes / names | England & Wales |\n",
    "| long / lat | Longitude and latitude of the centroid of the LSOA | England & Wales |\n",
    "| CCG19 CD / NM | Clinical Commissioning Groups 2019 codes / names | England |\n",
    "| ICB22 CD / NM | Integrated Care Board 2022 codes / names. Replacement for CCGs. | England |\n",
    "| STP19 CD / NM | Sustainability and Transformation Partnerships codes / names (~similar to counties) | England |\n",
    "| LHB20 CD / NM / NMW | Local Health Boards 2020 codes / names / Welsh names | Wales |\n",
    "| RGN11 CD / NM | Region codes / names. Gives specific regions within England, but Wales and Scotland just get the country name. | England & Wales |\n",
    "| LAD17 CD / NM | Local Authority District 2017 codes / names | England & Wales |\n",
    "| SCN17 CD/NM | Strategic Clinical Network 2017 codes / names | England |"
   ]
  },
  {
   "cell_type": "code",
   "execution_count": 3,
   "id": "4c3263e5-048d-4d63-b762-7f67f9c33699",
   "metadata": {},
   "outputs": [
    {
     "name": "stderr",
     "output_type": "stream",
     "text": [
      "/tmp/ipykernel_12194/1568924246.py:2: DtypeWarning: Columns (17,18,19) have mixed types. Specify dtype option on import or set low_memory=False.\n",
      "  lsoa_regions = pd.read_csv(region_file)\n"
     ]
    }
   ],
   "source": [
    "region_file = f\"{paths['dir_data_tabular']}{paths['lsoa_regions']}\"\n",
    "lsoa_regions = pd.read_csv(region_file)"
   ]
  },
  {
   "cell_type": "code",
   "execution_count": 4,
   "id": "c5deb1d9-a061-4886-b2d3-722c444a3d3f",
   "metadata": {},
   "outputs": [
    {
     "data": {
      "text/plain": [
       "Index(['LSOA11CD', 'LSOA11NM', 'LSOA11NMW', 'LSOA11BNG_E', 'LSOA11BNG_N',\n",
       "       'LSOA11LONG', 'LSOA11LAT', 'MSOA11CD', 'MSOA11NM', 'CCG19CD', 'CCG19NM',\n",
       "       'ICB22CD', 'ICB22NM', 'LAD17CD', 'LAD17NM', 'STP19CD', 'STP19NM',\n",
       "       'LHB20CD', 'LHB20NM', 'LHB20NMW', 'SCN17CD', 'SCN17NM', 'RGN11CD',\n",
       "       'RGN11NM', 'CTRY11NM'],\n",
       "      dtype='object')"
      ]
     },
     "execution_count": 4,
     "metadata": {},
     "output_type": "execute_result"
    }
   ],
   "source": [
    "lsoa_regions.columns"
   ]
  },
  {
   "cell_type": "code",
   "execution_count": 5,
   "id": "6b58f820-0826-486a-861a-9f5a5e20c85b",
   "metadata": {},
   "outputs": [
    {
     "data": {
      "text/plain": [
       "RangeIndex(start=0, stop=181408, step=1)"
      ]
     },
     "execution_count": 5,
     "metadata": {},
     "output_type": "execute_result"
    }
   ],
   "source": [
    "lsoa_regions.index"
   ]
  },
  {
   "cell_type": "code",
   "execution_count": 6,
   "id": "1b1b2263-ceeb-4ebb-ab17-16d0735c3dce",
   "metadata": {},
   "outputs": [],
   "source": [
    "boundary_files = {\n",
    "    'LSOA11NM':'LSOA_(Dec_2011)_Boundaries_Super_Generalised_Clipped_(BSC)_EW_V3.geojson',\n",
    "    'CCG19NM':'Clinical_Commissioning_Groups_April_2019_Boundaries_EN_BGC_2022_-7963862461000886750.geojson',\n",
    "    'ICB22NM':'ICB_JUL_2022_EN_BGC_V3_7901616774526941461.geojson',\n",
    "    'LAD17NM':'LAD_Dec_2017_GCB_GB_2022_5230662237199919616.geojson',\n",
    "    'STP19NM':'STP_Apr_2019_GCB_in_England_2022_3138810296697318496.geojson',\n",
    "    'LHB20NM':'Local_Health_Boards_April_2020_WA_BGC_2022_94310626700012506.geojson',\n",
    "    'SCN17NM':'SCN_Dec_2016_GCB_in_England_2022_8470122845735728627.geojson',\n",
    "    'RGN11NM':'Regions_December_2022_EN_BGC_4589208765943883498.geojson',\n",
    "}"
   ]
  },
  {
   "cell_type": "code",
   "execution_count": 7,
   "id": "fbddd9ee-34c0-4cf0-95f3-1c416b0fe5e7",
   "metadata": {},
   "outputs": [],
   "source": [
    "boundary_colour_dict = {\n",
    "    'LSOA11NM':'LightGrey',\n",
    "    'CCG19NM':'y',\n",
    "    'ICB22NM':'m',\n",
    "    'LAD17NM':'g',\n",
    "    'STP19NM':'r',\n",
    "    'LHB20NM':'b',\n",
    "    'SCN17NM':'b',\n",
    "    'RGN11NM':'k',\n",
    "}"
   ]
  },
  {
   "cell_type": "markdown",
   "id": "2cd6b368-d098-4ae2-9862-73f99bf77858",
   "metadata": {},
   "source": [
    "# Draw a boundary file"
   ]
  },
  {
   "cell_type": "code",
   "execution_count": 8,
   "id": "6a5d37d7-1960-4a86-80b5-c560041d25e8",
   "metadata": {},
   "outputs": [],
   "source": [
    "boundary_file = boundary_files['CCG19NM']\n",
    "\n",
    "geojson_file =f\"{paths['dir_data_geojson']}{boundary_file}\"\n",
    "df_geojson = geopandas.read_file(geojson_file)#, crs='EPSG:27700')"
   ]
  },
  {
   "cell_type": "code",
   "execution_count": 9,
   "id": "00073b0d-71d5-43b4-9d90-84ac04580537",
   "metadata": {},
   "outputs": [
    {
     "data": {
      "text/html": [
       "<div>\n",
       "<style scoped>\n",
       "    .dataframe tbody tr th:only-of-type {\n",
       "        vertical-align: middle;\n",
       "    }\n",
       "\n",
       "    .dataframe tbody tr th {\n",
       "        vertical-align: top;\n",
       "    }\n",
       "\n",
       "    .dataframe thead th {\n",
       "        text-align: right;\n",
       "    }\n",
       "</style>\n",
       "<table border=\"1\" class=\"dataframe\">\n",
       "  <thead>\n",
       "    <tr style=\"text-align: right;\">\n",
       "      <th></th>\n",
       "      <th>OBJECTID</th>\n",
       "      <th>CCG19CD</th>\n",
       "      <th>CCG19NM</th>\n",
       "      <th>BNG_E</th>\n",
       "      <th>BNG_N</th>\n",
       "      <th>LONG</th>\n",
       "      <th>LAT</th>\n",
       "      <th>GlobalID</th>\n",
       "      <th>geometry</th>\n",
       "    </tr>\n",
       "  </thead>\n",
       "  <tbody>\n",
       "    <tr>\n",
       "      <th>0</th>\n",
       "      <td>1</td>\n",
       "      <td>E38000001</td>\n",
       "      <td>NHS Airedale, Wharfedale and Craven CCG</td>\n",
       "      <td>393990</td>\n",
       "      <td>462191</td>\n",
       "      <td>-2.093300</td>\n",
       "      <td>54.0556</td>\n",
       "      <td>0025eb18-d86b-4a5f-9aa1-40ddd4dfcbdd</td>\n",
       "      <td>POLYGON ((399803.689 475231.193, 400155.625 47...</td>\n",
       "    </tr>\n",
       "    <tr>\n",
       "      <th>1</th>\n",
       "      <td>2</td>\n",
       "      <td>E38000002</td>\n",
       "      <td>NHS Ashford CCG</td>\n",
       "      <td>597640</td>\n",
       "      <td>140644</td>\n",
       "      <td>0.823374</td>\n",
       "      <td>51.1310</td>\n",
       "      <td>4d20f779-50a4-4741-b77f-b0fe806bcc7d</td>\n",
       "      <td>POLYGON ((610050.499 146602.203, 609973.500 14...</td>\n",
       "    </tr>\n",
       "    <tr>\n",
       "      <th>2</th>\n",
       "      <td>3</td>\n",
       "      <td>E38000004</td>\n",
       "      <td>NHS Barking and Dagenham CCG</td>\n",
       "      <td>547758</td>\n",
       "      <td>185109</td>\n",
       "      <td>0.129493</td>\n",
       "      <td>51.5455</td>\n",
       "      <td>9785f4bd-ad46-4633-8c4e-8144688f807f</td>\n",
       "      <td>MULTIPOLYGON (((543881.063 183185.609, 543837....</td>\n",
       "    </tr>\n",
       "    <tr>\n",
       "      <th>3</th>\n",
       "      <td>4</td>\n",
       "      <td>E38000005</td>\n",
       "      <td>NHS Barnet CCG</td>\n",
       "      <td>523471</td>\n",
       "      <td>191753</td>\n",
       "      <td>-0.218220</td>\n",
       "      <td>51.6111</td>\n",
       "      <td>33c19357-966f-4f89-86de-359ab645b3f0</td>\n",
       "      <td>POLYGON ((525814.122 198211.514, 525568.563 19...</td>\n",
       "    </tr>\n",
       "    <tr>\n",
       "      <th>4</th>\n",
       "      <td>5</td>\n",
       "      <td>E38000006</td>\n",
       "      <td>NHS Barnsley CCG</td>\n",
       "      <td>429979</td>\n",
       "      <td>403330</td>\n",
       "      <td>-1.549250</td>\n",
       "      <td>53.5258</td>\n",
       "      <td>3ca87b20-21e0-4acb-b373-1f4df14aa460</td>\n",
       "      <td>POLYGON ((443219.660 409833.090, 443286.853 40...</td>\n",
       "    </tr>\n",
       "    <tr>\n",
       "      <th>...</th>\n",
       "      <td>...</td>\n",
       "      <td>...</td>\n",
       "      <td>...</td>\n",
       "      <td>...</td>\n",
       "      <td>...</td>\n",
       "      <td>...</td>\n",
       "      <td>...</td>\n",
       "      <td>...</td>\n",
       "      <td>...</td>\n",
       "    </tr>\n",
       "    <tr>\n",
       "      <th>186</th>\n",
       "      <td>187</td>\n",
       "      <td>E38000226</td>\n",
       "      <td>NHS Fylde and Wyre CCG</td>\n",
       "      <td>345943</td>\n",
       "      <td>440271</td>\n",
       "      <td>-2.823300</td>\n",
       "      <td>53.8559</td>\n",
       "      <td>2afea037-5406-452f-9f2c-88d5e31633bd</td>\n",
       "      <td>MULTIPOLYGON (((341719.765 450567.916, 341715....</td>\n",
       "    </tr>\n",
       "    <tr>\n",
       "      <th>187</th>\n",
       "      <td>188</td>\n",
       "      <td>E38000227</td>\n",
       "      <td>NHS Greater Preston CCG</td>\n",
       "      <td>358317</td>\n",
       "      <td>435004</td>\n",
       "      <td>-2.634480</td>\n",
       "      <td>53.8097</td>\n",
       "      <td>21583264-65b8-409b-aa4a-7f9d2e4ce100</td>\n",
       "      <td>MULTIPOLYGON (((347728.756 429688.754, 347726....</td>\n",
       "    </tr>\n",
       "    <tr>\n",
       "      <th>188</th>\n",
       "      <td>189</td>\n",
       "      <td>E38000228</td>\n",
       "      <td>NHS Morecambe Bay CCG</td>\n",
       "      <td>362268</td>\n",
       "      <td>479660</td>\n",
       "      <td>-2.580040</td>\n",
       "      <td>54.2113</td>\n",
       "      <td>5b0b624c-dca1-4f52-9a7a-f78bf276c54f</td>\n",
       "      <td>MULTIPOLYGON (((319773.799 485609.095, 319745....</td>\n",
       "    </tr>\n",
       "    <tr>\n",
       "      <th>189</th>\n",
       "      <td>190</td>\n",
       "      <td>E38000229</td>\n",
       "      <td>NHS Derby and Derbyshire CCG</td>\n",
       "      <td>426752</td>\n",
       "      <td>353558</td>\n",
       "      <td>-1.602100</td>\n",
       "      <td>53.0786</td>\n",
       "      <td>1ec3276c-a5db-4ecd-a2ba-7f4f98299b8b</td>\n",
       "      <td>POLYGON ((445071.250 381534.375, 445074.597 38...</td>\n",
       "    </tr>\n",
       "    <tr>\n",
       "      <th>190</th>\n",
       "      <td>191</td>\n",
       "      <td>E38000230</td>\n",
       "      <td>NHS Devon CCG</td>\n",
       "      <td>283156</td>\n",
       "      <td>93082</td>\n",
       "      <td>-3.656790</td>\n",
       "      <td>50.7256</td>\n",
       "      <td>55f7b650-3737-49e6-9042-011a126bafee</td>\n",
       "      <td>MULTIPOLYGON (((213325.945 143307.255, 213276....</td>\n",
       "    </tr>\n",
       "  </tbody>\n",
       "</table>\n",
       "<p>191 rows × 9 columns</p>\n",
       "</div>"
      ],
      "text/plain": [
       "     OBJECTID    CCG19CD                                  CCG19NM   BNG_E  \\\n",
       "0           1  E38000001  NHS Airedale, Wharfedale and Craven CCG  393990   \n",
       "1           2  E38000002                          NHS Ashford CCG  597640   \n",
       "2           3  E38000004             NHS Barking and Dagenham CCG  547758   \n",
       "3           4  E38000005                           NHS Barnet CCG  523471   \n",
       "4           5  E38000006                         NHS Barnsley CCG  429979   \n",
       "..        ...        ...                                      ...     ...   \n",
       "186       187  E38000226                   NHS Fylde and Wyre CCG  345943   \n",
       "187       188  E38000227                  NHS Greater Preston CCG  358317   \n",
       "188       189  E38000228                    NHS Morecambe Bay CCG  362268   \n",
       "189       190  E38000229             NHS Derby and Derbyshire CCG  426752   \n",
       "190       191  E38000230                            NHS Devon CCG  283156   \n",
       "\n",
       "      BNG_N      LONG      LAT                              GlobalID  \\\n",
       "0    462191 -2.093300  54.0556  0025eb18-d86b-4a5f-9aa1-40ddd4dfcbdd   \n",
       "1    140644  0.823374  51.1310  4d20f779-50a4-4741-b77f-b0fe806bcc7d   \n",
       "2    185109  0.129493  51.5455  9785f4bd-ad46-4633-8c4e-8144688f807f   \n",
       "3    191753 -0.218220  51.6111  33c19357-966f-4f89-86de-359ab645b3f0   \n",
       "4    403330 -1.549250  53.5258  3ca87b20-21e0-4acb-b373-1f4df14aa460   \n",
       "..      ...       ...      ...                                   ...   \n",
       "186  440271 -2.823300  53.8559  2afea037-5406-452f-9f2c-88d5e31633bd   \n",
       "187  435004 -2.634480  53.8097  21583264-65b8-409b-aa4a-7f9d2e4ce100   \n",
       "188  479660 -2.580040  54.2113  5b0b624c-dca1-4f52-9a7a-f78bf276c54f   \n",
       "189  353558 -1.602100  53.0786  1ec3276c-a5db-4ecd-a2ba-7f4f98299b8b   \n",
       "190   93082 -3.656790  50.7256  55f7b650-3737-49e6-9042-011a126bafee   \n",
       "\n",
       "                                              geometry  \n",
       "0    POLYGON ((399803.689 475231.193, 400155.625 47...  \n",
       "1    POLYGON ((610050.499 146602.203, 609973.500 14...  \n",
       "2    MULTIPOLYGON (((543881.063 183185.609, 543837....  \n",
       "3    POLYGON ((525814.122 198211.514, 525568.563 19...  \n",
       "4    POLYGON ((443219.660 409833.090, 443286.853 40...  \n",
       "..                                                 ...  \n",
       "186  MULTIPOLYGON (((341719.765 450567.916, 341715....  \n",
       "187  MULTIPOLYGON (((347728.756 429688.754, 347726....  \n",
       "188  MULTIPOLYGON (((319773.799 485609.095, 319745....  \n",
       "189  POLYGON ((445071.250 381534.375, 445074.597 38...  \n",
       "190  MULTIPOLYGON (((213325.945 143307.255, 213276....  \n",
       "\n",
       "[191 rows x 9 columns]"
      ]
     },
     "execution_count": 9,
     "metadata": {},
     "output_type": "execute_result"
    }
   ],
   "source": [
    "df_geojson"
   ]
  },
  {
   "cell_type": "code",
   "execution_count": 10,
   "id": "a9f14dcc-6e67-484c-8783-91b98b09c6da",
   "metadata": {},
   "outputs": [
    {
     "data": {
      "image/png": "[encoded data removed]",
      "text/plain": [
       "<Figure size 600x600 with 1 Axes>"
      ]
     },
     "metadata": {},
     "output_type": "display_data"
    }
   ],
   "source": [
    "fig, ax = plt.subplots(figsize=(6, 6)) # Make max dimensions XxY inch\n",
    "\n",
    "# Draw the main map with colours (choropleth):\n",
    "df_geojson.plot(\n",
    "    ax=ax,              # Set which axes to use for plot (only one here)\n",
    "    # column='OBJECTID',     # Column to apply colour\n",
    "    antialiased=False,  # Avoids artifact boundry lines\n",
    "    # edgecolor='face',   # Make LSOA boundry same colour as area\n",
    "    facecolor='None',\n",
    "    edgecolor='k',   # Make LSOA boundry same colour as area\n",
    "    # vmin=-range,        # Manual scale min (remove to make automatic)\n",
    "    # vmax=range,         # Manual scale max (remove to make automatic)\n",
    "    # cmap='viridis',     # Colour map to use\n",
    "    legend_kwds={\n",
    "        'shrink':0.5,   # Adjust size of colourmap key\n",
    "        'label':'Dummy data'  # Add label\n",
    "    },\n",
    "    legend=True         # Set to display legend\n",
    "    )\n",
    "\n",
    "ax.set_axis_off()  # Turn off axis line and numbers\n",
    "# plt.savefig('example_map_geopandas.jpg', dpi=300, bbox_inches='tight')  # Save figure\n",
    "plt.show()"
   ]
  },
  {
   "cell_type": "markdown",
   "id": "404b7969-e707-4b8c-b875-140f31bf44e6",
   "metadata": {},
   "source": [
    "## Draw a subset of the boundaries\n",
    "\n",
    "Match the contents of the geojson with the contents of the lsoa_regions DataFrame."
   ]
  },
  {
   "cell_type": "code",
   "execution_count": 11,
   "id": "fe99c28a-2b95-459d-aa60-c9ce02c7f225",
   "metadata": {},
   "outputs": [
    {
     "data": {
      "text/plain": [
       "Index(['LSOA11CD', 'LSOA11NM', 'LSOA11NMW', 'LSOA11BNG_E', 'LSOA11BNG_N',\n",
       "       'LSOA11LONG', 'LSOA11LAT', 'MSOA11CD', 'MSOA11NM', 'CCG19CD', 'CCG19NM',\n",
       "       'ICB22CD', 'ICB22NM', 'LAD17CD', 'LAD17NM', 'STP19CD', 'STP19NM',\n",
       "       'LHB20CD', 'LHB20NM', 'LHB20NMW', 'SCN17CD', 'SCN17NM', 'RGN11CD',\n",
       "       'RGN11NM', 'CTRY11NM'],\n",
       "      dtype='object')"
      ]
     },
     "execution_count": 11,
     "metadata": {},
     "output_type": "execute_result"
    }
   ],
   "source": [
    "lsoa_regions.columns"
   ]
  },
  {
   "cell_type": "code",
   "execution_count": 12,
   "id": "e9f8a81b-a71b-4a51-8e09-be2a9a155169",
   "metadata": {},
   "outputs": [
    {
     "data": {
      "text/plain": [
       "array(['North East', 'North West', 'Yorkshire and The Humber',\n",
       "       'East Midlands', 'West Midlands', 'South West', 'East of England',\n",
       "       'South East', 'London', 'Wales'], dtype=object)"
      ]
     },
     "execution_count": 12,
     "metadata": {},
     "output_type": "execute_result"
    }
   ],
   "source": [
    "lsoa_regions['RGN11NM'].unique()"
   ]
  },
  {
   "cell_type": "code",
   "execution_count": 13,
   "id": "35dc0fbc-c9c4-4b3b-ae89-157dbde80a0d",
   "metadata": {},
   "outputs": [
    {
     "data": {
      "text/plain": [
       "17644"
      ]
     },
     "execution_count": 13,
     "metadata": {},
     "output_type": "execute_result"
    }
   ],
   "source": [
    "df_to_draw = lsoa_regions[lsoa_regions['RGN11NM'] == 'South West']\n",
    "\n",
    "len(df_to_draw)"
   ]
  },
  {
   "cell_type": "code",
   "execution_count": 14,
   "id": "e7b6dfb8-4883-4272-a21c-26ebd376efd9",
   "metadata": {},
   "outputs": [
    {
     "data": {
      "text/plain": [
       "9"
      ]
     },
     "execution_count": 14,
     "metadata": {},
     "output_type": "execute_result"
    }
   ],
   "source": [
    "df_geojson_to_draw = df_geojson[\n",
    "    df_geojson['CCG19NM'].isin(df_to_draw['CCG19NM'].values)]\n",
    "\n",
    "len(df_geojson_to_draw)"
   ]
  },
  {
   "cell_type": "code",
   "execution_count": 15,
   "id": "14c4667b-49ac-4220-87d9-bea8daccc283",
   "metadata": {},
   "outputs": [
    {
     "data": {
      "text/html": [
       "<div>\n",
       "<style scoped>\n",
       "    .dataframe tbody tr th:only-of-type {\n",
       "        vertical-align: middle;\n",
       "    }\n",
       "\n",
       "    .dataframe tbody tr th {\n",
       "        vertical-align: top;\n",
       "    }\n",
       "\n",
       "    .dataframe thead th {\n",
       "        text-align: right;\n",
       "    }\n",
       "</style>\n",
       "<table border=\"1\" class=\"dataframe\">\n",
       "  <thead>\n",
       "    <tr style=\"text-align: right;\">\n",
       "      <th></th>\n",
       "      <th>OBJECTID</th>\n",
       "      <th>CCG19CD</th>\n",
       "      <th>CCG19NM</th>\n",
       "      <th>BNG_E</th>\n",
       "      <th>BNG_N</th>\n",
       "      <th>LONG</th>\n",
       "      <th>LAT</th>\n",
       "      <th>GlobalID</th>\n",
       "      <th>geometry</th>\n",
       "    </tr>\n",
       "  </thead>\n",
       "  <tbody>\n",
       "    <tr>\n",
       "      <th>7</th>\n",
       "      <td>8</td>\n",
       "      <td>E38000009</td>\n",
       "      <td>NHS Bath and North East Somerset CCG</td>\n",
       "      <td>366218</td>\n",
       "      <td>161999</td>\n",
       "      <td>-2.48653</td>\n",
       "      <td>51.3560</td>\n",
       "      <td>2bfa9ad4-5e69-4e81-90ee-48838588ccfb</td>\n",
       "      <td>POLYGON ((379613.903 170018.906, 379561.759 16...</td>\n",
       "    </tr>\n",
       "    <tr>\n",
       "      <th>35</th>\n",
       "      <td>36</td>\n",
       "      <td>E38000045</td>\n",
       "      <td>NHS Dorset CCG</td>\n",
       "      <td>375748</td>\n",
       "      <td>99796</td>\n",
       "      <td>-2.34547</td>\n",
       "      <td>50.7972</td>\n",
       "      <td>ca89a074-0647-4703-ad1d-8d1f132cfdb7</td>\n",
       "      <td>MULTIPOLYGON (((416350.204 92412.896, 416250.4...</td>\n",
       "    </tr>\n",
       "    <tr>\n",
       "      <th>49</th>\n",
       "      <td>50</td>\n",
       "      <td>E38000062</td>\n",
       "      <td>NHS Gloucestershire CCG</td>\n",
       "      <td>389595</td>\n",
       "      <td>213465</td>\n",
       "      <td>-2.15235</td>\n",
       "      <td>51.8197</td>\n",
       "      <td>7c182875-92ea-4509-9b2b-04d08f8acfdc</td>\n",
       "      <td>POLYGON ((423049.194 232166.407, 423126.999 23...</td>\n",
       "    </tr>\n",
       "    <tr>\n",
       "      <th>73</th>\n",
       "      <td>74</td>\n",
       "      <td>E38000089</td>\n",
       "      <td>NHS Kernow CCG</td>\n",
       "      <td>212501</td>\n",
       "      <td>64494</td>\n",
       "      <td>-4.64249</td>\n",
       "      <td>50.4502</td>\n",
       "      <td>6c560816-0546-41eb-ace1-9dbd314a9af6</td>\n",
       "      <td>MULTIPOLYGON (((211740.701 93341.801, 211725.5...</td>\n",
       "    </tr>\n",
       "    <tr>\n",
       "      <th>119</th>\n",
       "      <td>120</td>\n",
       "      <td>E38000150</td>\n",
       "      <td>NHS Somerset CCG</td>\n",
       "      <td>309310</td>\n",
       "      <td>131072</td>\n",
       "      <td>-3.29581</td>\n",
       "      <td>51.0718</td>\n",
       "      <td>9eee1485-94fc-49e8-8381-6fabf8fa3be3</td>\n",
       "      <td>MULTIPOLYGON (((329191.704 148543.199, 329104....</td>\n",
       "    </tr>\n",
       "    <tr>\n",
       "      <th>144</th>\n",
       "      <td>145</td>\n",
       "      <td>E38000181</td>\n",
       "      <td>NHS Swindon CCG</td>\n",
       "      <td>419127</td>\n",
       "      <td>186641</td>\n",
       "      <td>-1.72536</td>\n",
       "      <td>51.5783</td>\n",
       "      <td>9a71c056-f3f9-4888-a110-424f2d2b544d</td>\n",
       "      <td>POLYGON ((422030.096 199080.267, 422033.500 19...</td>\n",
       "    </tr>\n",
       "    <tr>\n",
       "      <th>169</th>\n",
       "      <td>170</td>\n",
       "      <td>E38000206</td>\n",
       "      <td>NHS Wiltshire CCG</td>\n",
       "      <td>405209</td>\n",
       "      <td>158863</td>\n",
       "      <td>-1.92661</td>\n",
       "      <td>51.3288</td>\n",
       "      <td>052c6874-e184-40f6-8c78-257b4073df46</td>\n",
       "      <td>POLYGON ((414715.306 196490.194, 414546.595 19...</td>\n",
       "    </tr>\n",
       "    <tr>\n",
       "      <th>182</th>\n",
       "      <td>183</td>\n",
       "      <td>E38000222</td>\n",
       "      <td>NHS Bristol, North Somerset and South Gloucest...</td>\n",
       "      <td>366745</td>\n",
       "      <td>176368</td>\n",
       "      <td>-2.48031</td>\n",
       "      <td>51.4853</td>\n",
       "      <td>e73cf4b2-c2aa-4a61-ac26-23948dee74bf</td>\n",
       "      <td>MULTIPOLYGON (((322658.500 160489.200, 322563....</td>\n",
       "    </tr>\n",
       "    <tr>\n",
       "      <th>190</th>\n",
       "      <td>191</td>\n",
       "      <td>E38000230</td>\n",
       "      <td>NHS Devon CCG</td>\n",
       "      <td>283156</td>\n",
       "      <td>93082</td>\n",
       "      <td>-3.65679</td>\n",
       "      <td>50.7256</td>\n",
       "      <td>55f7b650-3737-49e6-9042-011a126bafee</td>\n",
       "      <td>MULTIPOLYGON (((213325.945 143307.255, 213276....</td>\n",
       "    </tr>\n",
       "  </tbody>\n",
       "</table>\n",
       "</div>"
      ],
      "text/plain": [
       "     OBJECTID    CCG19CD                                            CCG19NM  \\\n",
       "7           8  E38000009               NHS Bath and North East Somerset CCG   \n",
       "35         36  E38000045                                     NHS Dorset CCG   \n",
       "49         50  E38000062                            NHS Gloucestershire CCG   \n",
       "73         74  E38000089                                     NHS Kernow CCG   \n",
       "119       120  E38000150                                   NHS Somerset CCG   \n",
       "144       145  E38000181                                    NHS Swindon CCG   \n",
       "169       170  E38000206                                  NHS Wiltshire CCG   \n",
       "182       183  E38000222  NHS Bristol, North Somerset and South Gloucest...   \n",
       "190       191  E38000230                                      NHS Devon CCG   \n",
       "\n",
       "      BNG_E   BNG_N     LONG      LAT                              GlobalID  \\\n",
       "7    366218  161999 -2.48653  51.3560  2bfa9ad4-5e69-4e81-90ee-48838588ccfb   \n",
       "35   375748   99796 -2.34547  50.7972  ca89a074-0647-4703-ad1d-8d1f132cfdb7   \n",
       "49   389595  213465 -2.15235  51.8197  7c182875-92ea-4509-9b2b-04d08f8acfdc   \n",
       "73   212501   64494 -4.64249  50.4502  6c560816-0546-41eb-ace1-9dbd314a9af6   \n",
       "119  309310  131072 -3.29581  51.0718  9eee1485-94fc-49e8-8381-6fabf8fa3be3   \n",
       "144  419127  186641 -1.72536  51.5783  9a71c056-f3f9-4888-a110-424f2d2b544d   \n",
       "169  405209  158863 -1.92661  51.3288  052c6874-e184-40f6-8c78-257b4073df46   \n",
       "182  366745  176368 -2.48031  51.4853  e73cf4b2-c2aa-4a61-ac26-23948dee74bf   \n",
       "190  283156   93082 -3.65679  50.7256  55f7b650-3737-49e6-9042-011a126bafee   \n",
       "\n",
       "                                              geometry  \n",
       "7    POLYGON ((379613.903 170018.906, 379561.759 16...  \n",
       "35   MULTIPOLYGON (((416350.204 92412.896, 416250.4...  \n",
       "49   POLYGON ((423049.194 232166.407, 423126.999 23...  \n",
       "73   MULTIPOLYGON (((211740.701 93341.801, 211725.5...  \n",
       "119  MULTIPOLYGON (((329191.704 148543.199, 329104....  \n",
       "144  POLYGON ((422030.096 199080.267, 422033.500 19...  \n",
       "169  POLYGON ((414715.306 196490.194, 414546.595 19...  \n",
       "182  MULTIPOLYGON (((322658.500 160489.200, 322563....  \n",
       "190  MULTIPOLYGON (((213325.945 143307.255, 213276....  "
      ]
     },
     "execution_count": 15,
     "metadata": {},
     "output_type": "execute_result"
    }
   ],
   "source": [
    "df_geojson_to_draw"
   ]
  },
  {
   "cell_type": "code",
   "execution_count": 16,
   "id": "123457ca-30cc-405e-b895-e43f7f087949",
   "metadata": {},
   "outputs": [
    {
     "data": {
      "image/png": "[encoded data removed]",
      "text/plain": [
       "<Figure size 600x600 with 1 Axes>"
      ]
     },
     "metadata": {},
     "output_type": "display_data"
    }
   ],
   "source": [
    "fig, ax = plt.subplots(figsize=(6, 6)) # Make max dimensions XxY inch\n",
    "\n",
    "# Draw the main map with colours (choropleth):\n",
    "df_geojson_to_draw.plot(\n",
    "    ax=ax,              # Set which axes to use for plot (only one here)\n",
    "    # column='OBJECTID',     # Column to apply colour\n",
    "    antialiased=False,  # Avoids artifact boundry lines\n",
    "    # edgecolor='face',   # Make LSOA boundry same colour as area\n",
    "    # facecolor='None',\n",
    "    edgecolor='k',   # Make LSOA boundry same colour as area\n",
    "    # vmin=-range,        # Manual scale min (remove to make automatic)\n",
    "    # vmax=range,         # Manual scale max (remove to make automatic)\n",
    "    cmap='viridis',     # Colour map to use\n",
    "    legend_kwds={\n",
    "        'shrink':0.5,   # Adjust size of colourmap key\n",
    "        'label':'Dummy data'  # Add label\n",
    "    },\n",
    "    legend=True         # Set to display legend\n",
    "    )\n",
    "\n",
    "ax.set_axis_off()  # Turn off axis line and numbers\n",
    "# plt.savefig('example_map_geopandas.jpg', dpi=300, bbox_inches='tight')  # Save figure\n",
    "plt.show()"
   ]
  },
  {
   "cell_type": "markdown",
   "id": "7fb80641-771f-4f55-863f-d4a6935fc633",
   "metadata": {},
   "source": [
    "## Draw multiple boundaries together"
   ]
  },
  {
   "cell_type": "code",
   "execution_count": 17,
   "id": "9906f32b-f1e7-4dde-8936-754ef1cf6fbd",
   "metadata": {},
   "outputs": [
    {
     "data": {
      "image/png": "[encoded data removed]",
      "text/plain": [
       "<Figure size 1200x1200 with 1 Axes>"
      ]
     },
     "metadata": {},
     "output_type": "display_data"
    }
   ],
   "source": [
    "fig, ax = plt.subplots(figsize=(12, 12)) # Make max dimensions XxY inch\n",
    "\n",
    "boundaries_here = ['ICB22NM', 'LHB20NM', 'RGN11NM']\n",
    "\n",
    "dummy_legend_patches = []\n",
    "\n",
    "for b, boundary_type in enumerate(boundaries_here):\n",
    "    boundary_file = boundary_files[boundary_type]\n",
    "    geojson_file =f\"{paths['dir_data_geojson']}{boundary_file}\"\n",
    "    df_geojson = geopandas.read_file(geojson_file)#, crs='EPSG:27700')\n",
    "    \n",
    "    boundary_colour = boundary_colour_dict[boundary_type]\n",
    "    \n",
    "    # Draw the main map with colours (choropleth):\n",
    "    df_geojson.plot(\n",
    "        ax=ax,              # Set which axes to use for plot (only one here)\n",
    "        # column='OBJECTID',     # Column to apply colour\n",
    "        antialiased=False,  # Avoids artifact boundry lines\n",
    "        # edgecolor='face',   # Make LSOA boundry same colour as area\n",
    "        facecolor='none',\n",
    "        alpha=0.6,\n",
    "        edgecolor=boundary_colour,\n",
    "        # vmin=-range,        # Manual scale min (remove to make automatic)\n",
    "        # vmax=range,         # Manual scale max (remove to make automatic)\n",
    "        # cmap='viridis',     # Colour map to use\n",
    "        legend_kwds={\n",
    "            'shrink':0.5,   # Adjust size of colourmap key\n",
    "            'label':'Dummy data'  # Add label\n",
    "        },\n",
    "        legend=True,         # Set to display legend\n",
    "        label=boundary_type\n",
    "        )\n",
    "    dummy_legend_patches.append(\n",
    "        mpatches.Patch(color=boundary_colour, label=boundary_type))\n",
    "\n",
    "ax.set_axis_off()  # Turn off axis line and numbers\n",
    "\n",
    "ax.legend(handles=dummy_legend_patches)\n",
    "# plt.savefig('example_map_geopandas.jpg', dpi=300, bbox_inches='tight')  # Save figure\n",
    "plt.show()"
   ]
  },
  {
   "cell_type": "markdown",
   "id": "1c2a297b-3d1f-4564-832e-e6c9f80aac4c",
   "metadata": {},
   "source": [
    "## Colour boundary set A by boundary set B\n",
    "\n",
    "This works but in this case it gives weird and unwanted results.\n",
    "\n",
    "In the north, a tiny part of the ICB containing Lancashire covers LSOAs that are linked to Yorkshire. This means that the whole ICB is coloured to match Yorkshire and the Humber instead of the expected North West. The colour is chosen from the new column `RGN11NM` made in the `pd.merge()` statement below. Presumably when the merge happens, only the row latest in the DataFrame is kept. The colour that is chosen is arbitrary - it is to do with the order of data in the input DataFrame rather than anything useful about the regions themselves.\n",
    "\n",
    "This colouring method could be useful for a region set A that exactly matches the boundaries of region set B, e.g. Set B is counties and Set A is districts within the county."
   ]
  },
  {
   "cell_type": "code",
   "execution_count": 18,
   "id": "1cc3ab46-fb4f-4dfc-b9df-e62a803945a3",
   "metadata": {},
   "outputs": [
    {
     "name": "stderr",
     "output_type": "stream",
     "text": [
      "/home/anna/miniconda3/lib/python3.9/site-packages/geopandas/plotting.py:730: FutureWarning: is_categorical_dtype is deprecated and will be removed in a future version. Use isinstance(dtype, CategoricalDtype) instead\n",
      "  if pd.api.types.is_categorical_dtype(values.dtype):\n",
      "/home/anna/miniconda3/lib/python3.9/site-packages/geopandas/plotting.py:730: FutureWarning: is_categorical_dtype is deprecated and will be removed in a future version. Use isinstance(dtype, CategoricalDtype) instead\n",
      "  if pd.api.types.is_categorical_dtype(values.dtype):\n"
     ]
    },
    {
     "data": {
      "image/png": "[encoded data removed]",
      "text/plain": [
       "<Figure size 1200x1200 with 1 Axes>"
      ]
     },
     "metadata": {},
     "output_type": "display_data"
    }
   ],
   "source": [
    "fig, ax = plt.subplots(figsize=(12, 12)) # Make max dimensions XxY inch\n",
    "\n",
    "boundaries_here = ['ICB22NM', 'LHB20NM', 'RGN11NM']\n",
    "\n",
    "dummy_legend_patches = []\n",
    "\n",
    "for b, boundary_type in enumerate(boundaries_here):\n",
    "    boundary_file = boundary_files[boundary_type]\n",
    "    geojson_file =f\"{paths['dir_data_geojson']}{boundary_file}\"\n",
    "    df_geojson = geopandas.read_file(geojson_file)#, crs='EPSG:27700')\n",
    "\n",
    "    boundary_colour = boundary_colour_dict[boundary_type]\n",
    "\n",
    "    if boundary_type != 'RGN11NM':\n",
    "        # Colour differently depending on which region it's in.\n",
    "        lsoa_regions_shortlist = lsoa_regions[['RGN11NM', boundary_type]].drop_duplicates()\n",
    "        df_geojson = pd.merge(\n",
    "            df_geojson, lsoa_regions_shortlist,\n",
    "            left_on=boundary_type, right_on=boundary_type, how='left'\n",
    "        )\n",
    "        kwargs = dict(column='RGN11NM', cmap='viridis', edgecolor=boundary_colour)\n",
    "    else:\n",
    "        kwargs = dict(edgecolor=boundary_colour, facecolor='none')\n",
    "    \n",
    "    \n",
    "    # Draw the main map with colours (choropleth):\n",
    "    df_geojson.plot(\n",
    "        ax=ax,              # Set which axes to use for plot (only one here)\n",
    "        antialiased=False,  # Avoids artifact boundry lines\n",
    "        # vmin=-range,        # Manual scale min (remove to make automatic)\n",
    "        # vmax=range,         # Manual scale max (remove to make automatic)\n",
    "        legend_kwds={\n",
    "            'shrink':0.5,   # Adjust size of colourmap key\n",
    "            'label':'Dummy data'  # Add label\n",
    "        },\n",
    "        # legend=True,         # Set to display legend\n",
    "        label=boundary_type,\n",
    "        **kwargs\n",
    "        )\n",
    "    dummy_legend_patches.append(\n",
    "        mpatches.Patch(color=boundary_colour, label=boundary_type))\n",
    "\n",
    "ax.set_axis_off()  # Turn off axis line and numbers\n",
    "\n",
    "ax.legend(handles=dummy_legend_patches)\n",
    "# plt.savefig('example_map_geopandas.jpg', dpi=300, bbox_inches='tight')  # Save figure\n",
    "plt.show()"
   ]
  }
 ],
 "metadata": {
  "kernelspec": {
   "display_name": "Python 3 (ipykernel)",
   "language": "python",
   "name": "python3"
  },
  "language_info": {
   "codemirror_mode": {
    "name": "ipython",
    "version": 3
   },
   "file_extension": ".py",
   "mimetype": "text/x-python",
   "name": "python",
   "nbconvert_exporter": "python",
   "pygments_lexer": "ipython3",
   "version": "3.9.16"
  }
 },
 "nbformat": 4,
 "nbformat_minor": 5
}
