{
 "cells": [
  {
   "cell_type": "markdown",
   "id": "e6a4d526-1947-4b48-ad6d-4117d5458965",
   "metadata": {},
   "source": [
    "# Plot boundaries\n"
   ]
  },
  {
   "cell_type": "markdown",
   "id": "92ea69f8-0d6e-4f8b-b23a-8b726784eac5",
   "metadata": {},
   "source": [
    "## Setup\n",
    "\n",
    "Import the following packages:"
   ]
  },
  {
   "cell_type": "code",
   "execution_count": 3,
   "id": "65432af9-5992-4688-9a3a-24a6c995b0e7",
   "metadata": {},
   "outputs": [],
   "source": [
    "import numpy as np\n",
    "import pandas as pd\n",
    "\n",
    "import geopandas\n",
    "import matplotlib.pyplot as plt"
   ]
  },
  {
   "cell_type": "markdown",
   "id": "11e5e21d-1382-4dba-87be-fe6ace4a93e0",
   "metadata": {},
   "source": [
    "Look for data in these places:"
   ]
  },
  {
   "cell_type": "code",
   "execution_count": 11,
   "id": "4a53a972-6408-4ab3-a5a1-cea5fca08d14",
   "metadata": {},
   "outputs": [],
   "source": [
    "paths = dict(\n",
    "    dir_data_input = '../data_example/',\n",
    "    dir_data_geojson = '../data_geojson/ons_data/',\n",
    "    dir_data_tabular = '../data_tabular/',\n",
    "    values_file = 'example_lsoa_englandwales.csv',\n",
    "    lsoa_geojson = 'LSOA_(Dec_2011)_Boundaries_Super_Generalised_Clipped_(BSC)_EW_V3.geojson',\n",
    "    lsoa_regions = 'LSOA_regions.csv',\n",
    "    stroke_hospitals = 'stroke_hospitals_2022.csv'\n",
    ")"
   ]
  },
  {
   "cell_type": "markdown",
   "id": "5f36efa5-de82-4ba5-9767-71c57beada25",
   "metadata": {},
   "source": [
    "Read in this file of region information for each LSOA. It includes the following data:\n",
    "\n",
    "| Column name | Description | Usage |\n",
    "| --- | --- | --- | \n",
    "| LSOA11 CD / NM | LSOA 2011 codes / names | England & Wales |\n",
    "| long / lat | Longitude and latitude of the centroid of the LSOA | England & Wales |\n",
    "| CCG19 CD / NM | Clinical Commissioning Groups 2019 codes / names | England |\n",
    "| ICB22 CD / NM | Integrated Care Board 2022 codes / names. Replacement for CCGs. | England |\n",
    "| STP19 CD / NM | Sustainability and Transformation Partnerships codes / names (~similar to counties) | England |\n",
    "| LHB20 CD / NM / NMW | Local Health Boards 2020 codes / names / Welsh names | Wales |\n",
    "| RGN11 CD / NM | Region codes / names. Gives specific regions within England, but Wales and Scotland just get the country name. | England & Wales |\n",
    "| LAD17 CD / NM | Local Authority District 2017 codes / names | England & Wales |\n",
    "| SCN17 CD/NM | Strategic Clinical Network 2017 codes / names | England |"
   ]
  },
  {
   "cell_type": "code",
   "execution_count": 5,
   "id": "4c3263e5-048d-4d63-b762-7f67f9c33699",
   "metadata": {},
   "outputs": [],
   "source": [
    "region_file = f\"{paths['dir_data_tabular']}{paths['lsoa_regions']}\"\n",
    "lsoa_regions = pd.read_csv(region_file)"
   ]
  },
  {
   "cell_type": "code",
   "execution_count": 6,
   "id": "c5deb1d9-a061-4886-b2d3-722c444a3d3f",
   "metadata": {},
   "outputs": [
    {
     "data": {
      "text/plain": [
       "Index(['LSOA11CD', 'LSOA11NM', 'LSOA11LONG', 'LSOA11LAT', 'CCG19CD', 'CCG19NM',\n",
       "       'STP19CD', 'STP19NM', 'LHB20CD', 'LHB20NM', 'LHB20NMW', 'LAD17CD',\n",
       "       'LAD17NM', 'SCN17CD', 'SCN17NM', 'RGN11CD', 'RGN11NM'],\n",
       "      dtype='object')"
      ]
     },
     "execution_count": 6,
     "metadata": {},
     "output_type": "execute_result"
    }
   ],
   "source": [
    "lsoa_regions.columns"
   ]
  },
  {
   "cell_type": "code",
   "execution_count": 7,
   "id": "6b58f820-0826-486a-861a-9f5a5e20c85b",
   "metadata": {},
   "outputs": [
    {
     "data": {
      "text/plain": [
       "RangeIndex(start=0, stop=34752, step=1)"
      ]
     },
     "execution_count": 7,
     "metadata": {},
     "output_type": "execute_result"
    }
   ],
   "source": [
    "lsoa_regions.index"
   ]
  },
  {
   "cell_type": "code",
   "execution_count": 8,
   "id": "1b1b2263-ceeb-4ebb-ab17-16d0735c3dce",
   "metadata": {},
   "outputs": [],
   "source": [
    "boundary_files = {\n",
    "    'LSOA':'LSOA_(Dec_2011)_Boundaries_Super_Generalised_Clipped_(BSC)_EW_V3.geojson',\n",
    "    'CCG':'Clinical_Commissioning_Groups_April_2019_Boundaries_EN_BGC_2022_-7963862461000886750.geojson',\n",
    "    'ICB':'ICB_JUL_2022_EN_BGC_V3_7901616774526941461.geojson',\n",
    "    'LAD':'LAD_Dec_2017_GCB_GB_2022_5230662237199919616.geojson',\n",
    "    'STP':'STP_Apr_2019_GCB_in_England_2022_3138810296697318496.geojson',\n",
    "    'LHB':'Local_Health_Boards_April_2020_WA_BGC_2022_94310626700012506.geojson',\n",
    "    'SCN':'SCN_Dec_2016_GCB_in_England_2022_8470122845735728627.geojson',\n",
    "    'RGN':'Regions_December_2022_EN_BGC_4589208765943883498.geojson',\n",
    "}"
   ]
  },
  {
   "cell_type": "code",
   "execution_count": 9,
   "id": "e56273fa-815a-4c77-b2c6-2fbff67372aa",
   "metadata": {},
   "outputs": [],
   "source": [
    "boundary_file = boundary_files['SCN']\n"
   ]
  },
  {
   "cell_type": "code",
   "execution_count": 12,
   "id": "8fdb80cb-af09-4c37-9d13-33f9d16bac30",
   "metadata": {},
   "outputs": [],
   "source": [
    "geojson_file =f\"{paths['dir_data_geojson']}{boundary_file}\"\n",
    "df_geojson = geopandas.read_file(geojson_file)#, crs='EPSG:27700')"
   ]
  },
  {
   "cell_type": "code",
   "execution_count": 13,
   "id": "00073b0d-71d5-43b4-9d90-84ac04580537",
   "metadata": {},
   "outputs": [
    {
     "data": {
      "text/html": [
       "<div>\n",
       "<style scoped>\n",
       "    .dataframe tbody tr th:only-of-type {\n",
       "        vertical-align: middle;\n",
       "    }\n",
       "\n",
       "    .dataframe tbody tr th {\n",
       "        vertical-align: top;\n",
       "    }\n",
       "\n",
       "    .dataframe thead th {\n",
       "        text-align: right;\n",
       "    }\n",
       "</style>\n",
       "<table border=\"1\" class=\"dataframe\">\n",
       "  <thead>\n",
       "    <tr style=\"text-align: right;\">\n",
       "      <th></th>\n",
       "      <th>OBJECTID</th>\n",
       "      <th>scn16cd</th>\n",
       "      <th>scn16nm</th>\n",
       "      <th>bng_e</th>\n",
       "      <th>bng_n</th>\n",
       "      <th>long</th>\n",
       "      <th>lat</th>\n",
       "      <th>GlobalID</th>\n",
       "      <th>geometry</th>\n",
       "    </tr>\n",
       "  </thead>\n",
       "  <tbody>\n",
       "    <tr>\n",
       "      <th>0</th>\n",
       "      <td>1</td>\n",
       "      <td>E55000002</td>\n",
       "      <td>Cheshire and Merseyside</td>\n",
       "      <td>374405</td>\n",
       "      <td>380936</td>\n",
       "      <td>-2.385720</td>\n",
       "      <td>53.324730</td>\n",
       "      <td>255a0666-075d-46c3-883b-91926861afc5</td>\n",
       "      <td>MULTIPOLYGON (((336376.599 422601.901, 336404....</td>\n",
       "    </tr>\n",
       "    <tr>\n",
       "      <th>1</th>\n",
       "      <td>2</td>\n",
       "      <td>E55000003</td>\n",
       "      <td>Greater Manchester, Lancashire and South Cumbria</td>\n",
       "      <td>362045</td>\n",
       "      <td>447378</td>\n",
       "      <td>-2.579400</td>\n",
       "      <td>53.921150</td>\n",
       "      <td>a950d40f-7426-47db-a164-33d4e20bb8bf</td>\n",
       "      <td>MULTIPOLYGON (((334374.698 512086.596, 334360....</td>\n",
       "    </tr>\n",
       "    <tr>\n",
       "      <th>2</th>\n",
       "      <td>3</td>\n",
       "      <td>E55000004</td>\n",
       "      <td>Northern England</td>\n",
       "      <td>386194</td>\n",
       "      <td>549585</td>\n",
       "      <td>-2.216500</td>\n",
       "      <td>54.840889</td>\n",
       "      <td>91880e4a-6c04-4b64-9427-483b5d83aa1c</td>\n",
       "      <td>MULTIPOLYGON (((398253.902 652833.898, 398317....</td>\n",
       "    </tr>\n",
       "    <tr>\n",
       "      <th>3</th>\n",
       "      <td>4</td>\n",
       "      <td>E55000005</td>\n",
       "      <td>Yorkshire and The Humber</td>\n",
       "      <td>426652</td>\n",
       "      <td>443114</td>\n",
       "      <td>-1.596030</td>\n",
       "      <td>53.883549</td>\n",
       "      <td>33c8ad95-5957-4271-b112-e11a650b64fc</td>\n",
       "      <td>MULTIPOLYGON (((478203.003 518916.601, 478373....</td>\n",
       "    </tr>\n",
       "    <tr>\n",
       "      <th>4</th>\n",
       "      <td>5</td>\n",
       "      <td>E55000006</td>\n",
       "      <td>East of England</td>\n",
       "      <td>571074</td>\n",
       "      <td>263229</td>\n",
       "      <td>0.504146</td>\n",
       "      <td>52.240669</td>\n",
       "      <td>2c769455-a5ad-40f2-99b3-8a2a045a3b8e</td>\n",
       "      <td>MULTIPOLYGON (((600697.699 346562.497, 601108....</td>\n",
       "    </tr>\n",
       "    <tr>\n",
       "      <th>5</th>\n",
       "      <td>6</td>\n",
       "      <td>E55000007</td>\n",
       "      <td>East Midlands</td>\n",
       "      <td>477660</td>\n",
       "      <td>304146</td>\n",
       "      <td>-0.854030</td>\n",
       "      <td>52.629539</td>\n",
       "      <td>0c0f672f-d125-4c76-8ea5-4958f1792f38</td>\n",
       "      <td>MULTIPOLYGON (((512490.996 414654.696, 512679....</td>\n",
       "    </tr>\n",
       "    <tr>\n",
       "      <th>6</th>\n",
       "      <td>7</td>\n",
       "      <td>E55000008</td>\n",
       "      <td>West Midlands</td>\n",
       "      <td>386294</td>\n",
       "      <td>295477</td>\n",
       "      <td>-2.203580</td>\n",
       "      <td>52.556969</td>\n",
       "      <td>185c7437-afd8-4e98-9754-0c87d0dd5fbd</td>\n",
       "      <td>POLYGON ((403387.797 368314.900, 403515.999 36...</td>\n",
       "    </tr>\n",
       "    <tr>\n",
       "      <th>7</th>\n",
       "      <td>8</td>\n",
       "      <td>E55000009</td>\n",
       "      <td>South West</td>\n",
       "      <td>285015</td>\n",
       "      <td>102567</td>\n",
       "      <td>-3.633430</td>\n",
       "      <td>50.811192</td>\n",
       "      <td>a93689eb-7e4f-42ff-b858-c3f3cb2223c5</td>\n",
       "      <td>MULTIPOLYGON (((416693.503 245007.097, 416810....</td>\n",
       "    </tr>\n",
       "    <tr>\n",
       "      <th>8</th>\n",
       "      <td>9</td>\n",
       "      <td>E55000010</td>\n",
       "      <td>South East Coast</td>\n",
       "      <td>555276</td>\n",
       "      <td>135827</td>\n",
       "      <td>0.216373</td>\n",
       "      <td>51.100719</td>\n",
       "      <td>d4dabcb2-370b-4404-b536-a6bb3a9b3057</td>\n",
       "      <td>MULTIPOLYGON (((577424.101 179270.704, 577408....</td>\n",
       "    </tr>\n",
       "    <tr>\n",
       "      <th>9</th>\n",
       "      <td>10</td>\n",
       "      <td>E55000011</td>\n",
       "      <td>Thames Valley</td>\n",
       "      <td>459681</td>\n",
       "      <td>205725</td>\n",
       "      <td>-1.136910</td>\n",
       "      <td>51.747051</td>\n",
       "      <td>ed3a16e4-74ac-46f5-ac15-5572c581a617</td>\n",
       "      <td>POLYGON ((446553.800 251430.398, 446526.501 25...</td>\n",
       "    </tr>\n",
       "    <tr>\n",
       "      <th>10</th>\n",
       "      <td>11</td>\n",
       "      <td>E55000012</td>\n",
       "      <td>Wessex</td>\n",
       "      <td>450080</td>\n",
       "      <td>116813</td>\n",
       "      <td>-1.288460</td>\n",
       "      <td>50.948570</td>\n",
       "      <td>9bcf978b-f6cb-4790-8d29-4b769ec27cff</td>\n",
       "      <td>MULTIPOLYGON (((464131.899 164354.703, 464280....</td>\n",
       "    </tr>\n",
       "    <tr>\n",
       "      <th>11</th>\n",
       "      <td>12</td>\n",
       "      <td>E55000014</td>\n",
       "      <td>London</td>\n",
       "      <td>517516</td>\n",
       "      <td>178392</td>\n",
       "      <td>-0.308640</td>\n",
       "      <td>51.492271</td>\n",
       "      <td>ccec1071-341f-4a11-9395-390737b28944</td>\n",
       "      <td>MULTIPOLYGON (((531457.201 200860.204, 531788....</td>\n",
       "    </tr>\n",
       "  </tbody>\n",
       "</table>\n",
       "</div>"
      ],
      "text/plain": [
       "    OBJECTID    scn16cd                                           scn16nm  \\\n",
       "0          1  E55000002                           Cheshire and Merseyside   \n",
       "1          2  E55000003  Greater Manchester, Lancashire and South Cumbria   \n",
       "2          3  E55000004                                  Northern England   \n",
       "3          4  E55000005                          Yorkshire and The Humber   \n",
       "4          5  E55000006                                   East of England   \n",
       "5          6  E55000007                                     East Midlands   \n",
       "6          7  E55000008                                     West Midlands   \n",
       "7          8  E55000009                                        South West   \n",
       "8          9  E55000010                                  South East Coast   \n",
       "9         10  E55000011                                     Thames Valley   \n",
       "10        11  E55000012                                            Wessex   \n",
       "11        12  E55000014                                            London   \n",
       "\n",
       "     bng_e   bng_n      long        lat                              GlobalID  \\\n",
       "0   374405  380936 -2.385720  53.324730  255a0666-075d-46c3-883b-91926861afc5   \n",
       "1   362045  447378 -2.579400  53.921150  a950d40f-7426-47db-a164-33d4e20bb8bf   \n",
       "2   386194  549585 -2.216500  54.840889  91880e4a-6c04-4b64-9427-483b5d83aa1c   \n",
       "3   426652  443114 -1.596030  53.883549  33c8ad95-5957-4271-b112-e11a650b64fc   \n",
       "4   571074  263229  0.504146  52.240669  2c769455-a5ad-40f2-99b3-8a2a045a3b8e   \n",
       "5   477660  304146 -0.854030  52.629539  0c0f672f-d125-4c76-8ea5-4958f1792f38   \n",
       "6   386294  295477 -2.203580  52.556969  185c7437-afd8-4e98-9754-0c87d0dd5fbd   \n",
       "7   285015  102567 -3.633430  50.811192  a93689eb-7e4f-42ff-b858-c3f3cb2223c5   \n",
       "8   555276  135827  0.216373  51.100719  d4dabcb2-370b-4404-b536-a6bb3a9b3057   \n",
       "9   459681  205725 -1.136910  51.747051  ed3a16e4-74ac-46f5-ac15-5572c581a617   \n",
       "10  450080  116813 -1.288460  50.948570  9bcf978b-f6cb-4790-8d29-4b769ec27cff   \n",
       "11  517516  178392 -0.308640  51.492271  ccec1071-341f-4a11-9395-390737b28944   \n",
       "\n",
       "                                             geometry  \n",
       "0   MULTIPOLYGON (((336376.599 422601.901, 336404....  \n",
       "1   MULTIPOLYGON (((334374.698 512086.596, 334360....  \n",
       "2   MULTIPOLYGON (((398253.902 652833.898, 398317....  \n",
       "3   MULTIPOLYGON (((478203.003 518916.601, 478373....  \n",
       "4   MULTIPOLYGON (((600697.699 346562.497, 601108....  \n",
       "5   MULTIPOLYGON (((512490.996 414654.696, 512679....  \n",
       "6   POLYGON ((403387.797 368314.900, 403515.999 36...  \n",
       "7   MULTIPOLYGON (((416693.503 245007.097, 416810....  \n",
       "8   MULTIPOLYGON (((577424.101 179270.704, 577408....  \n",
       "9   POLYGON ((446553.800 251430.398, 446526.501 25...  \n",
       "10  MULTIPOLYGON (((464131.899 164354.703, 464280....  \n",
       "11  MULTIPOLYGON (((531457.201 200860.204, 531788....  "
      ]
     },
     "execution_count": 13,
     "metadata": {},
     "output_type": "execute_result"
    }
   ],
   "source": [
    "df_geojson"
   ]
  },
  {
   "cell_type": "code",
   "execution_count": 36,
   "id": "fbddd9ee-34c0-4cf0-95f3-1c416b0fe5e7",
   "metadata": {},
   "outputs": [],
   "source": [
    "boundary_colour_dict = {\n",
    "    'LSOA':'LightGrey',\n",
    "    'CCG':'y',\n",
    "    'ICB':'m',\n",
    "    'LAD':'g',\n",
    "    'STP':'r',\n",
    "    'LHB':'b',\n",
    "    'SCN':'b',\n",
    "    'RGN':'k',\n",
    "}"
   ]
  },
  {
   "cell_type": "code",
   "execution_count": 39,
   "id": "9906f32b-f1e7-4dde-8936-754ef1cf6fbd",
   "metadata": {},
   "outputs": [
    {
     "data": {
      "image/png": "[encoded data removed]",
      "text/plain": [
       "<Figure size 1200x1200 with 1 Axes>"
      ]
     },
     "metadata": {},
     "output_type": "display_data"
    }
   ],
   "source": [
    "fig, ax = plt.subplots(figsize=(12, 12)) # Make max dimensions XxY inch\n",
    "\n",
    "boundaries_here = ['ICB', 'RGN']\n",
    "\n",
    "for b, boundary_type in enumerate(boundaries_here):\n",
    "    boundary_file = boundary_files[boundary_type]\n",
    "    geojson_file =f\"{paths['dir_data_geojson']}{boundary_file}\"\n",
    "    df_geojson = geopandas.read_file(geojson_file)#, crs='EPSG:27700')\n",
    "    \n",
    "    boundary_colour = boundary_colour_dict[boundary_type]\n",
    "    \n",
    "    # Draw the main map with colours (choropleth):\n",
    "    df_geojson.plot(\n",
    "        ax=ax,              # Set which axes to use for plot (only one here)\n",
    "        # column='OBJECTID',     # Column to apply colour\n",
    "        antialiased=False,  # Avoids artifact boundry lines\n",
    "        # edgecolor='face',   # Make LSOA boundry same colour as area\n",
    "        facecolor='none',\n",
    "        alpha=0.6,\n",
    "        edgecolor=boundary_colour,\n",
    "        # vmin=-range,        # Manual scale min (remove to make automatic)\n",
    "        # vmax=range,         # Manual scale max (remove to make automatic)\n",
    "        # cmap='viridis',     # Colour map to use\n",
    "        legend_kwds={\n",
    "            'shrink':0.5,   # Adjust size of colourmap key\n",
    "            'label':'Dummy data'  # Add label\n",
    "        },\n",
    "        legend=True         # Set to display legend\n",
    "        )\n",
    "\n",
    "ax.set_axis_off()  # Turn off axis line and numbers\n",
    "# plt.savefig('example_map_geopandas.jpg', dpi=300, bbox_inches='tight')  # Save figure\n",
    "plt.show()"
   ]
  },
  {
   "cell_type": "code",
   "execution_count": null,
   "id": "039b564d-c0dc-41fb-b6d6-7109ae8536cc",
   "metadata": {},
   "outputs": [],
   "source": []
  },
  {
   "cell_type": "code",
   "execution_count": 21,
   "id": "a9f14dcc-6e67-484c-8783-91b98b09c6da",
   "metadata": {},
   "outputs": [
    {
     "data": {
      "image/png": "[encoded data removed]",
      "text/plain": [
       "<Figure size 600x600 with 1 Axes>"
      ]
     },
     "metadata": {},
     "output_type": "display_data"
    }
   ],
   "source": [
    "fig, ax = plt.subplots(figsize=(6, 6)) # Make max dimensions XxY inch\n",
    "\n",
    "# Draw the main map with colours (choropleth):\n",
    "df_geojson.plot(\n",
    "    ax=ax,              # Set which axes to use for plot (only one here)\n",
    "    # column='OBJECTID',     # Column to apply colour\n",
    "    antialiased=False,  # Avoids artifact boundry lines\n",
    "    # edgecolor='face',   # Make LSOA boundry same colour as area\n",
    "    facecolor='None',\n",
    "    edgecolor='k',   # Make LSOA boundry same colour as area\n",
    "    # vmin=-range,        # Manual scale min (remove to make automatic)\n",
    "    # vmax=range,         # Manual scale max (remove to make automatic)\n",
    "    # cmap='viridis',     # Colour map to use\n",
    "    legend_kwds={\n",
    "        'shrink':0.5,   # Adjust size of colourmap key\n",
    "        'label':'Dummy data'  # Add label\n",
    "    },\n",
    "    legend=True         # Set to display legend\n",
    "    )\n",
    "\n",
    "ax.set_axis_off()  # Turn off axis line and numbers\n",
    "# plt.savefig('example_map_geopandas.jpg', dpi=300, bbox_inches='tight')  # Save figure\n",
    "plt.show()"
   ]
  },
  {
   "cell_type": "code",
   "execution_count": null,
   "id": "88ae175d-f511-46c9-8ed4-7c1bae4b3ff5",
   "metadata": {},
   "outputs": [],
   "source": []
  }
 ],
 "metadata": {
  "kernelspec": {
   "display_name": "Python 3 (ipykernel)",
   "language": "python",
   "name": "python3"
  },
  "language_info": {
   "codemirror_mode": {
    "name": "ipython",
    "version": 3
   },
   "file_extension": ".py",
   "mimetype": "text/x-python",
   "name": "python",
   "nbconvert_exporter": "python",
   "pygments_lexer": "ipython3",
   "version": "3.9.16"
  }
 },
 "nbformat": 4,
 "nbformat_minor": 5
}
