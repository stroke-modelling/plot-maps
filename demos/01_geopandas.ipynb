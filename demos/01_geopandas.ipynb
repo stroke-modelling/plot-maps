{
 "cells": [
  {
   "cell_type": "markdown",
   "metadata": {},
   "source": [
    "# Plotting maps with geopandas and matplotlib\n",
    "\n",
    "## Plain English summary\n",
    "\n",
    "This notebook is a basic demo of using `geopandas` and `matplotlib` to create the following map:\n",
    "\n",
    "![Image of the map created in this notebook using geopandas and matplotlib. All of the LSOAs in Devon and Cornwall are shown in random colours, and the locations of stroke units are marked.](example_map_geopandas.jpg)\n",
    "\n",
    "In the map, different areas are given different colours according to some dummy data value. The locations of some stroke units are also marked.\n",
    "\n",
    "The notebook imports the following sets of data:\n",
    "\n",
    "| File name | Type | Description |\n",
    "| --- | --- | --- |\n",
    "| `example_lsoa_englandwales.csv` | Table | A list of example data for all LSOAs in England and Wales. Each LSOA has a number from 1 to 10 in the \"Value\" column. This is meaningless dummy data. |\n",
    "| `LSOA_regions.csv` | Table | A list of all LSOAs in England and Wales and the larger regions that they are parts of, e.g. Local Health Boards. |\n",
    "| `stroke_hospitals_2022.csv` | Table | A list of stroke units in England and Wales. Their postcodes and coordinates in latitude and longitude are included. |\n",
    "| `LSOA_(Dec_2011)_Boundaries_Super_Generalised_Clipped_(BSC)_EW_V3.geojson` | Coordinates | A list of coordinates defining the border of each LSOA in England and Wales. |\n",
    "\n",
    "__Reference document:__ [MUSTER stroke outcome pilot](https://github.com/stroke-modelling/muster/blob/dev/temp/analysis.ipynb) (link might break)"
   ]
  },
  {
   "cell_type": "markdown",
   "metadata": {},
   "source": [
    "## Setup\n",
    "\n",
    "Import the following packages:"
   ]
  },
  {
   "cell_type": "code",
   "execution_count": 1,
   "metadata": {},
   "outputs": [],
   "source": [
    "import numpy as np\n",
    "import pandas as pd\n",
    "\n",
    "import geopandas\n",
    "import matplotlib.pyplot as plt"
   ]
  },
  {
   "cell_type": "markdown",
   "metadata": {},
   "source": [
    "Look for data in these places:"
   ]
  },
  {
   "cell_type": "code",
   "execution_count": 2,
   "metadata": {},
   "outputs": [],
   "source": [
    "paths = dict(\n",
    "    dir_data_input = '../data_example/',\n",
    "    dir_data_geojson = '../data_geojson/',\n",
    "    dir_data_tabular = '../data_tabular/',\n",
    "    values_file = 'example_lsoa_englandwales.csv',\n",
    "    lsoa_geojson = 'LSOA_(Dec_2011)_Boundaries_Super_Generalised_Clipped_(BSC)_EW_V3.geojson',\n",
    "    lsoa_regions = 'LSOA_regions.csv',\n",
    "    stroke_hospitals = 'stroke_hospitals_2022.csv'\n",
    ")"
   ]
  },
  {
   "cell_type": "markdown",
   "metadata": {},
   "source": [
    "## Import example data"
   ]
  },
  {
   "cell_type": "code",
   "execution_count": 3,
   "metadata": {},
   "outputs": [],
   "source": [
    "data_file = f\"{paths['dir_data_input']}{paths['values_file']}\"\n",
    "lsoa_values = pd.read_csv(data_file)"
   ]
  },
  {
   "cell_type": "code",
   "execution_count": 4,
   "metadata": {},
   "outputs": [
    {
     "data": {
      "text/plain": [
       "Index(['LSOA11NM', 'Value'], dtype='object')"
      ]
     },
     "execution_count": 4,
     "metadata": {},
     "output_type": "execute_result"
    }
   ],
   "source": [
    "lsoa_values.columns"
   ]
  },
  {
   "cell_type": "code",
   "execution_count": 5,
   "metadata": {},
   "outputs": [
    {
     "data": {
      "text/plain": [
       "RangeIndex(start=0, stop=34752, step=1)"
      ]
     },
     "execution_count": 5,
     "metadata": {},
     "output_type": "execute_result"
    }
   ],
   "source": [
    "lsoa_values.index"
   ]
  },
  {
   "cell_type": "code",
   "execution_count": 6,
   "metadata": {},
   "outputs": [
    {
     "data": {
      "text/html": [
       "<div>\n",
       "<style scoped>\n",
       "    .dataframe tbody tr th:only-of-type {\n",
       "        vertical-align: middle;\n",
       "    }\n",
       "\n",
       "    .dataframe tbody tr th {\n",
       "        vertical-align: top;\n",
       "    }\n",
       "\n",
       "    .dataframe thead th {\n",
       "        text-align: right;\n",
       "    }\n",
       "</style>\n",
       "<table border=\"1\" class=\"dataframe\">\n",
       "  <thead>\n",
       "    <tr style=\"text-align: right;\">\n",
       "      <th></th>\n",
       "      <th>LSOA11NM</th>\n",
       "      <th>Value</th>\n",
       "    </tr>\n",
       "  </thead>\n",
       "  <tbody>\n",
       "    <tr>\n",
       "      <th>0</th>\n",
       "      <td>Adur 001A</td>\n",
       "      <td>1</td>\n",
       "    </tr>\n",
       "    <tr>\n",
       "      <th>1</th>\n",
       "      <td>Adur 001B</td>\n",
       "      <td>2</td>\n",
       "    </tr>\n",
       "    <tr>\n",
       "      <th>2</th>\n",
       "      <td>Adur 001C</td>\n",
       "      <td>3</td>\n",
       "    </tr>\n",
       "  </tbody>\n",
       "</table>\n",
       "</div>"
      ],
      "text/plain": [
       "    LSOA11NM  Value\n",
       "0  Adur 001A      1\n",
       "1  Adur 001B      2\n",
       "2  Adur 001C      3"
      ]
     },
     "execution_count": 6,
     "metadata": {},
     "output_type": "execute_result"
    }
   ],
   "source": [
    "lsoa_values.head(3)"
   ]
  },
  {
   "cell_type": "markdown",
   "metadata": {},
   "source": [
    "## Import region coordinates"
   ]
  },
  {
   "cell_type": "code",
   "execution_count": 7,
   "metadata": {},
   "outputs": [],
   "source": [
    "geojson_file =f\"{paths['dir_data_geojson']}{paths['lsoa_geojson']}\"\n",
    "lsoa_gdf = geopandas.read_file(geojson_file)#, crs='EPSG:27700')"
   ]
  },
  {
   "cell_type": "code",
   "execution_count": 8,
   "metadata": {},
   "outputs": [
    {
     "data": {
      "text/plain": [
       "Index(['OBJECTID', 'LSOA11CD', 'LSOA11NM', 'LSOA11NMW', 'BNG_E', 'BNG_N',\n",
       "       'LONG', 'LAT', 'Shape__Area', 'Shape__Length', 'GlobalID', 'geometry'],\n",
       "      dtype='object')"
      ]
     },
     "execution_count": 8,
     "metadata": {},
     "output_type": "execute_result"
    }
   ],
   "source": [
    "lsoa_gdf.columns"
   ]
  },
  {
   "cell_type": "code",
   "execution_count": 9,
   "metadata": {},
   "outputs": [
    {
     "data": {
      "text/plain": [
       "RangeIndex(start=0, stop=34753, step=1)"
      ]
     },
     "execution_count": 9,
     "metadata": {},
     "output_type": "execute_result"
    }
   ],
   "source": [
    "lsoa_gdf.index"
   ]
  },
  {
   "cell_type": "code",
   "execution_count": 10,
   "metadata": {},
   "outputs": [
    {
     "data": {
      "text/html": [
       "<div>\n",
       "<style scoped>\n",
       "    .dataframe tbody tr th:only-of-type {\n",
       "        vertical-align: middle;\n",
       "    }\n",
       "\n",
       "    .dataframe tbody tr th {\n",
       "        vertical-align: top;\n",
       "    }\n",
       "\n",
       "    .dataframe thead th {\n",
       "        text-align: right;\n",
       "    }\n",
       "</style>\n",
       "<table border=\"1\" class=\"dataframe\">\n",
       "  <thead>\n",
       "    <tr style=\"text-align: right;\">\n",
       "      <th></th>\n",
       "      <th>OBJECTID</th>\n",
       "      <th>LSOA11CD</th>\n",
       "      <th>LSOA11NM</th>\n",
       "      <th>LSOA11NMW</th>\n",
       "      <th>BNG_E</th>\n",
       "      <th>BNG_N</th>\n",
       "      <th>LONG</th>\n",
       "      <th>LAT</th>\n",
       "      <th>Shape__Area</th>\n",
       "      <th>Shape__Length</th>\n",
       "      <th>GlobalID</th>\n",
       "      <th>geometry</th>\n",
       "    </tr>\n",
       "  </thead>\n",
       "  <tbody>\n",
       "    <tr>\n",
       "      <th>0</th>\n",
       "      <td>1</td>\n",
       "      <td>E01000001</td>\n",
       "      <td>City of London 001A</td>\n",
       "      <td>City of London 001A</td>\n",
       "      <td>532129</td>\n",
       "      <td>181625</td>\n",
       "      <td>-0.09706</td>\n",
       "      <td>51.51810</td>\n",
       "      <td>157794.481079</td>\n",
       "      <td>1685.391778</td>\n",
       "      <td>b12173a3-5423-4672-a5eb-f152d2345f96</td>\n",
       "      <td>POLYGON ((-0.09474 51.52060, -0.09546 51.51544...</td>\n",
       "    </tr>\n",
       "    <tr>\n",
       "      <th>1</th>\n",
       "      <td>2</td>\n",
       "      <td>E01000002</td>\n",
       "      <td>City of London 001B</td>\n",
       "      <td>City of London 001B</td>\n",
       "      <td>532480</td>\n",
       "      <td>181699</td>\n",
       "      <td>-0.09197</td>\n",
       "      <td>51.51868</td>\n",
       "      <td>164882.427628</td>\n",
       "      <td>1804.828196</td>\n",
       "      <td>90274dc4-f785-4afb-95cd-7cc1fc9a2cad</td>\n",
       "      <td>POLYGON ((-0.08810 51.51941, -0.09546 51.51544...</td>\n",
       "    </tr>\n",
       "    <tr>\n",
       "      <th>2</th>\n",
       "      <td>3</td>\n",
       "      <td>E01000003</td>\n",
       "      <td>City of London 001C</td>\n",
       "      <td>City of London 001C</td>\n",
       "      <td>532245</td>\n",
       "      <td>182036</td>\n",
       "      <td>-0.09523</td>\n",
       "      <td>51.52176</td>\n",
       "      <td>42219.805717</td>\n",
       "      <td>909.223277</td>\n",
       "      <td>7e89d0ba-f186-45fb-961c-8f5ffcd03808</td>\n",
       "      <td>POLYGON ((-0.09453 51.52205, -0.09274 51.52139...</td>\n",
       "    </tr>\n",
       "  </tbody>\n",
       "</table>\n",
       "</div>"
      ],
      "text/plain": [
       "   OBJECTID   LSOA11CD             LSOA11NM            LSOA11NMW   BNG_E  \\\n",
       "0         1  E01000001  City of London 001A  City of London 001A  532129   \n",
       "1         2  E01000002  City of London 001B  City of London 001B  532480   \n",
       "2         3  E01000003  City of London 001C  City of London 001C  532245   \n",
       "\n",
       "    BNG_N     LONG       LAT    Shape__Area  Shape__Length  \\\n",
       "0  181625 -0.09706  51.51810  157794.481079    1685.391778   \n",
       "1  181699 -0.09197  51.51868  164882.427628    1804.828196   \n",
       "2  182036 -0.09523  51.52176   42219.805717     909.223277   \n",
       "\n",
       "                               GlobalID  \\\n",
       "0  b12173a3-5423-4672-a5eb-f152d2345f96   \n",
       "1  90274dc4-f785-4afb-95cd-7cc1fc9a2cad   \n",
       "2  7e89d0ba-f186-45fb-961c-8f5ffcd03808   \n",
       "\n",
       "                                            geometry  \n",
       "0  POLYGON ((-0.09474 51.52060, -0.09546 51.51544...  \n",
       "1  POLYGON ((-0.08810 51.51941, -0.09546 51.51544...  \n",
       "2  POLYGON ((-0.09453 51.52205, -0.09274 51.52139...  "
      ]
     },
     "execution_count": 10,
     "metadata": {},
     "output_type": "execute_result"
    }
   ],
   "source": [
    "lsoa_gdf.head(3)"
   ]
  },
  {
   "cell_type": "markdown",
   "metadata": {},
   "source": [
    "## Import hospital locations"
   ]
  },
  {
   "cell_type": "code",
   "execution_count": 11,
   "metadata": {},
   "outputs": [],
   "source": [
    "hospitals_file = f\"{paths['dir_data_tabular']}{paths['stroke_hospitals']}\"\n",
    "hospitals_gdf = geopandas.read_file(hospitals_file)"
   ]
  },
  {
   "cell_type": "markdown",
   "metadata": {},
   "source": [
    "Create coordinates from the longitude and latitude columns in the file. If necessary, change the projection."
   ]
  },
  {
   "cell_type": "code",
   "execution_count": 12,
   "metadata": {},
   "outputs": [],
   "source": [
    "# Create coordinates:\n",
    "hospitals_gdf.geometry = geopandas.points_from_xy(\n",
    "    hospitals_gdf.long,\n",
    "    hospitals_gdf.lat\n",
    ")\n",
    "\n",
    "# Update projection:\n",
    "hospitals_gdf = hospitals_gdf.set_crs(epsg=4326)\n",
    "# hospitals_gdf = hospitals_gdf.to_crs(epsg=27700)"
   ]
  },
  {
   "cell_type": "code",
   "execution_count": 13,
   "metadata": {},
   "outputs": [
    {
     "data": {
      "text/plain": [
       "Index(['Postcode', 'Hospital_name', 'Use_IVT', 'Use_MT', 'Use_MSU', 'Country',\n",
       "       'Strategic Clinical Network', 'Health Board / Trust', 'Stroke Team',\n",
       "       'SSNAP name', 'Admissions 21/22', 'Thrombolysis', 'ivt_rate', 'Easting',\n",
       "       'Northing', 'long', 'lat', 'Neuroscience',\n",
       "       '30 England Thrombectomy Example', 'hospital_city', 'Notes',\n",
       "       'geometry'],\n",
       "      dtype='object')"
      ]
     },
     "execution_count": 13,
     "metadata": {},
     "output_type": "execute_result"
    }
   ],
   "source": [
    "hospitals_gdf.columns"
   ]
  },
  {
   "cell_type": "code",
   "execution_count": 14,
   "metadata": {},
   "outputs": [
    {
     "data": {
      "text/plain": [
       "RangeIndex(start=0, stop=141, step=1)"
      ]
     },
     "execution_count": 14,
     "metadata": {},
     "output_type": "execute_result"
    }
   ],
   "source": [
    "hospitals_gdf.index"
   ]
  },
  {
   "cell_type": "code",
   "execution_count": 15,
   "metadata": {},
   "outputs": [
    {
     "data": {
      "text/html": [
       "<div>\n",
       "<style scoped>\n",
       "    .dataframe tbody tr th:only-of-type {\n",
       "        vertical-align: middle;\n",
       "    }\n",
       "\n",
       "    .dataframe tbody tr th {\n",
       "        vertical-align: top;\n",
       "    }\n",
       "\n",
       "    .dataframe thead th {\n",
       "        text-align: right;\n",
       "    }\n",
       "</style>\n",
       "<table border=\"1\" class=\"dataframe\">\n",
       "  <thead>\n",
       "    <tr style=\"text-align: right;\">\n",
       "      <th></th>\n",
       "      <th>Postcode</th>\n",
       "      <th>Hospital_name</th>\n",
       "      <th>Use_IVT</th>\n",
       "      <th>Use_MT</th>\n",
       "      <th>Use_MSU</th>\n",
       "      <th>Country</th>\n",
       "      <th>Strategic Clinical Network</th>\n",
       "      <th>Health Board / Trust</th>\n",
       "      <th>Stroke Team</th>\n",
       "      <th>SSNAP name</th>\n",
       "      <th>...</th>\n",
       "      <th>ivt_rate</th>\n",
       "      <th>Easting</th>\n",
       "      <th>Northing</th>\n",
       "      <th>long</th>\n",
       "      <th>lat</th>\n",
       "      <th>Neuroscience</th>\n",
       "      <th>30 England Thrombectomy Example</th>\n",
       "      <th>hospital_city</th>\n",
       "      <th>Notes</th>\n",
       "      <th>geometry</th>\n",
       "    </tr>\n",
       "  </thead>\n",
       "  <tbody>\n",
       "    <tr>\n",
       "      <th>0</th>\n",
       "      <td>RM70AG</td>\n",
       "      <td>RM70AG</td>\n",
       "      <td>1</td>\n",
       "      <td>1</td>\n",
       "      <td>1</td>\n",
       "      <td>England</td>\n",
       "      <td>London SCN</td>\n",
       "      <td>Barking</td>\n",
       "      <td>Havering and Redbridge University Hospitals N...</td>\n",
       "      <td>Queens Hospital Romford HASU</td>\n",
       "      <td>...</td>\n",
       "      <td>11.9</td>\n",
       "      <td>551118</td>\n",
       "      <td>187780</td>\n",
       "      <td>0.179030640661934</td>\n",
       "      <td>51.5686465521504</td>\n",
       "      <td>1</td>\n",
       "      <td>0</td>\n",
       "      <td>Romford</td>\n",
       "      <td></td>\n",
       "      <td>POINT (0.17903 51.56865)</td>\n",
       "    </tr>\n",
       "    <tr>\n",
       "      <th>1</th>\n",
       "      <td>E11BB</td>\n",
       "      <td>E11BB</td>\n",
       "      <td>1</td>\n",
       "      <td>1</td>\n",
       "      <td>1</td>\n",
       "      <td>England</td>\n",
       "      <td>London SCN</td>\n",
       "      <td>Barts Health NHS Trust</td>\n",
       "      <td>The Royal London Hospital</td>\n",
       "      <td>Royal London Hospital HASU</td>\n",
       "      <td>...</td>\n",
       "      <td>13.4</td>\n",
       "      <td>534829</td>\n",
       "      <td>181798</td>\n",
       "      <td>-0.0581329916047372</td>\n",
       "      <td>51.5190178361295</td>\n",
       "      <td>1</td>\n",
       "      <td>1</td>\n",
       "      <td>Royal London</td>\n",
       "      <td></td>\n",
       "      <td>POINT (-0.05813 51.51902)</td>\n",
       "    </tr>\n",
       "    <tr>\n",
       "      <th>2</th>\n",
       "      <td>SW66SX</td>\n",
       "      <td>SW66SX</td>\n",
       "      <td>1</td>\n",
       "      <td>1</td>\n",
       "      <td>1</td>\n",
       "      <td>England</td>\n",
       "      <td>London SCN</td>\n",
       "      <td>Imperial College Healthcare NHS Trust</td>\n",
       "      <td>Charing Cross Hospital, London</td>\n",
       "      <td>Charing Cross Hospital HASU</td>\n",
       "      <td>...</td>\n",
       "      <td>9.9</td>\n",
       "      <td>524226</td>\n",
       "      <td>176487</td>\n",
       "      <td>-0.212736111308184</td>\n",
       "      <td>51.4737165811988</td>\n",
       "      <td>1</td>\n",
       "      <td>1</td>\n",
       "      <td>Charing Cross</td>\n",
       "      <td></td>\n",
       "      <td>POINT (-0.21274 51.47372)</td>\n",
       "    </tr>\n",
       "  </tbody>\n",
       "</table>\n",
       "<p>3 rows × 22 columns</p>\n",
       "</div>"
      ],
      "text/plain": [
       "  Postcode Hospital_name Use_IVT Use_MT Use_MSU  Country  \\\n",
       "0   RM70AG        RM70AG       1      1       1  England   \n",
       "1    E11BB         E11BB       1      1       1  England   \n",
       "2   SW66SX        SW66SX       1      1       1  England   \n",
       "\n",
       "  Strategic Clinical Network                   Health Board / Trust  \\\n",
       "0                 London SCN                                Barking   \n",
       "1                 London SCN                 Barts Health NHS Trust   \n",
       "2                 London SCN  Imperial College Healthcare NHS Trust   \n",
       "\n",
       "                                         Stroke Team  \\\n",
       "0   Havering and Redbridge University Hospitals N...   \n",
       "1                          The Royal London Hospital   \n",
       "2                     Charing Cross Hospital, London   \n",
       "\n",
       "                     SSNAP name  ... ivt_rate Easting Northing  \\\n",
       "0  Queens Hospital Romford HASU  ...     11.9  551118   187780   \n",
       "1    Royal London Hospital HASU  ...     13.4  534829   181798   \n",
       "2   Charing Cross Hospital HASU  ...      9.9  524226   176487   \n",
       "\n",
       "                  long               lat Neuroscience  \\\n",
       "0    0.179030640661934  51.5686465521504            1   \n",
       "1  -0.0581329916047372  51.5190178361295            1   \n",
       "2   -0.212736111308184  51.4737165811988            1   \n",
       "\n",
       "  30 England Thrombectomy Example  hospital_city Notes  \\\n",
       "0                               0        Romford         \n",
       "1                               1   Royal London         \n",
       "2                               1  Charing Cross         \n",
       "\n",
       "                    geometry  \n",
       "0   POINT (0.17903 51.56865)  \n",
       "1  POINT (-0.05813 51.51902)  \n",
       "2  POINT (-0.21274 51.47372)  \n",
       "\n",
       "[3 rows x 22 columns]"
      ]
     },
     "execution_count": 15,
     "metadata": {},
     "output_type": "execute_result"
    }
   ],
   "source": [
    "hospitals_gdf.head(3)"
   ]
  },
  {
   "cell_type": "markdown",
   "metadata": {},
   "source": [
    "## Limit region info to just Devon and Cornwall\n",
    "\n",
    "Read in this file of region information for each LSOA. It includes the following data:\n",
    "\n",
    "| Column name | Description | Usage |\n",
    "| --- | --- | --- | \n",
    "| LSOA11 CD / NM | LSOA 2011 codes / names | England & Wales |\n",
    "| long / lat | Longitude and latitude of the centroid of the LSOA | England & Wales |\n",
    "| CCG19 CD / NM | Clinical Commissioning Groups 2019 codes / names | England |\n",
    "| ICB22 CD / NM | Integrated Care Board 2022 codes / names. Replacement for CCGs. | England |\n",
    "| STP19 CD / NM | Sustainability and Transformation Partnerships codes / names (~similar to counties) | England |\n",
    "| LHB20 CD / NM / NMW | Local Health Boards 2020 codes / names / Welsh names | Wales |\n",
    "| RGN11 CD / NM | Region codes / names. Gives specific regions within England, but Wales and Scotland just get the country name. | England & Wales |\n",
    "| LAD17 CD / NM | Local Authority District 2017 codes / names | England & Wales |\n",
    "| SCN17 CD/NM | Strategic Clinical Network 2017 codes / names | England |"
   ]
  },
  {
   "cell_type": "code",
   "execution_count": 16,
   "metadata": {},
   "outputs": [],
   "source": [
    "region_file = f\"{paths['dir_data_tabular']}{paths['lsoa_regions']}\"\n",
    "lsoa_regions = pd.read_csv(region_file)"
   ]
  },
  {
   "cell_type": "code",
   "execution_count": 17,
   "metadata": {},
   "outputs": [
    {
     "data": {
      "text/plain": [
       "Index(['LSOA11CD', 'LSOA11NM', 'LSOA11LONG', 'LSOA11LAT', 'CCG19CD', 'CCG19NM',\n",
       "       'STP19CD', 'STP19NM', 'LHB20CD', 'LHB20NM', 'LHB20NMW', 'LAD17CD',\n",
       "       'LAD17NM', 'SCN17CD', 'SCN17NM', 'RGN11CD', 'RGN11NM'],\n",
       "      dtype='object')"
      ]
     },
     "execution_count": 17,
     "metadata": {},
     "output_type": "execute_result"
    }
   ],
   "source": [
    "lsoa_regions.columns"
   ]
  },
  {
   "cell_type": "code",
   "execution_count": 18,
   "metadata": {},
   "outputs": [
    {
     "data": {
      "text/plain": [
       "RangeIndex(start=0, stop=34752, step=1)"
      ]
     },
     "execution_count": 18,
     "metadata": {},
     "output_type": "execute_result"
    }
   ],
   "source": [
    "lsoa_regions.index"
   ]
  },
  {
   "cell_type": "markdown",
   "metadata": {},
   "source": [
    "Only keep rows of data that belong to \"Devon\" and \"Cornwall and the Isles of Scilly\":"
   ]
  },
  {
   "cell_type": "code",
   "execution_count": 19,
   "metadata": {},
   "outputs": [],
   "source": [
    "mask = (\n",
    "    (lsoa_regions['STP19NM'] == 'Devon') |\n",
    "    (lsoa_regions['STP19NM'] == 'Cornwall and the Isles of Scilly')\n",
    "    )\n",
    "\n",
    "lsoa_regions = lsoa_regions[mask]"
   ]
  },
  {
   "cell_type": "code",
   "execution_count": 20,
   "metadata": {},
   "outputs": [
    {
     "data": {
      "text/html": [
       "<div>\n",
       "<style scoped>\n",
       "    .dataframe tbody tr th:only-of-type {\n",
       "        vertical-align: middle;\n",
       "    }\n",
       "\n",
       "    .dataframe tbody tr th {\n",
       "        vertical-align: top;\n",
       "    }\n",
       "\n",
       "    .dataframe thead th {\n",
       "        text-align: right;\n",
       "    }\n",
       "</style>\n",
       "<table border=\"1\" class=\"dataframe\">\n",
       "  <thead>\n",
       "    <tr style=\"text-align: right;\">\n",
       "      <th></th>\n",
       "      <th>LSOA11CD</th>\n",
       "      <th>LSOA11NM</th>\n",
       "      <th>LSOA11LONG</th>\n",
       "      <th>LSOA11LAT</th>\n",
       "      <th>CCG19CD</th>\n",
       "      <th>CCG19NM</th>\n",
       "      <th>STP19CD</th>\n",
       "      <th>STP19NM</th>\n",
       "      <th>LHB20CD</th>\n",
       "      <th>LHB20NM</th>\n",
       "      <th>LHB20NMW</th>\n",
       "      <th>LAD17CD</th>\n",
       "      <th>LAD17NM</th>\n",
       "      <th>SCN17CD</th>\n",
       "      <th>SCN17NM</th>\n",
       "      <th>RGN11CD</th>\n",
       "      <th>RGN11NM</th>\n",
       "    </tr>\n",
       "  </thead>\n",
       "  <tbody>\n",
       "    <tr>\n",
       "      <th>7627</th>\n",
       "      <td>E01018936</td>\n",
       "      <td>Cornwall 001A</td>\n",
       "      <td>-4.54490</td>\n",
       "      <td>50.83088</td>\n",
       "      <td>E38000089</td>\n",
       "      <td>NHS Kernow CCG</td>\n",
       "      <td>E54000036</td>\n",
       "      <td>Cornwall and the Isles of Scilly</td>\n",
       "      <td>NaN</td>\n",
       "      <td>NaN</td>\n",
       "      <td>NaN</td>\n",
       "      <td>E06000052</td>\n",
       "      <td>Cornwall</td>\n",
       "      <td>E55000009</td>\n",
       "      <td>South West</td>\n",
       "      <td>E12000009</td>\n",
       "      <td>South West</td>\n",
       "    </tr>\n",
       "    <tr>\n",
       "      <th>7628</th>\n",
       "      <td>E01018937</td>\n",
       "      <td>Cornwall 001B</td>\n",
       "      <td>-4.53209</td>\n",
       "      <td>50.82460</td>\n",
       "      <td>E38000089</td>\n",
       "      <td>NHS Kernow CCG</td>\n",
       "      <td>E54000036</td>\n",
       "      <td>Cornwall and the Isles of Scilly</td>\n",
       "      <td>NaN</td>\n",
       "      <td>NaN</td>\n",
       "      <td>NaN</td>\n",
       "      <td>E06000052</td>\n",
       "      <td>Cornwall</td>\n",
       "      <td>E55000009</td>\n",
       "      <td>South West</td>\n",
       "      <td>E12000009</td>\n",
       "      <td>South West</td>\n",
       "    </tr>\n",
       "    <tr>\n",
       "      <th>7629</th>\n",
       "      <td>E01018938</td>\n",
       "      <td>Cornwall 001C</td>\n",
       "      <td>-4.54316</td>\n",
       "      <td>50.81845</td>\n",
       "      <td>E38000089</td>\n",
       "      <td>NHS Kernow CCG</td>\n",
       "      <td>E54000036</td>\n",
       "      <td>Cornwall and the Isles of Scilly</td>\n",
       "      <td>NaN</td>\n",
       "      <td>NaN</td>\n",
       "      <td>NaN</td>\n",
       "      <td>E06000052</td>\n",
       "      <td>Cornwall</td>\n",
       "      <td>E55000009</td>\n",
       "      <td>South West</td>\n",
       "      <td>E12000009</td>\n",
       "      <td>South West</td>\n",
       "    </tr>\n",
       "  </tbody>\n",
       "</table>\n",
       "</div>"
      ],
      "text/plain": [
       "       LSOA11CD       LSOA11NM  LSOA11LONG  LSOA11LAT    CCG19CD  \\\n",
       "7627  E01018936  Cornwall 001A    -4.54490   50.83088  E38000089   \n",
       "7628  E01018937  Cornwall 001B    -4.53209   50.82460  E38000089   \n",
       "7629  E01018938  Cornwall 001C    -4.54316   50.81845  E38000089   \n",
       "\n",
       "             CCG19NM    STP19CD                           STP19NM LHB20CD  \\\n",
       "7627  NHS Kernow CCG  E54000036  Cornwall and the Isles of Scilly     NaN   \n",
       "7628  NHS Kernow CCG  E54000036  Cornwall and the Isles of Scilly     NaN   \n",
       "7629  NHS Kernow CCG  E54000036  Cornwall and the Isles of Scilly     NaN   \n",
       "\n",
       "     LHB20NM LHB20NMW    LAD17CD   LAD17NM    SCN17CD     SCN17NM    RGN11CD  \\\n",
       "7627     NaN      NaN  E06000052  Cornwall  E55000009  South West  E12000009   \n",
       "7628     NaN      NaN  E06000052  Cornwall  E55000009  South West  E12000009   \n",
       "7629     NaN      NaN  E06000052  Cornwall  E55000009  South West  E12000009   \n",
       "\n",
       "         RGN11NM  \n",
       "7627  South West  \n",
       "7628  South West  \n",
       "7629  South West  "
      ]
     },
     "execution_count": 20,
     "metadata": {},
     "output_type": "execute_result"
    }
   ],
   "source": [
    "lsoa_regions.head(3)"
   ]
  },
  {
   "cell_type": "markdown",
   "metadata": {},
   "source": [
    "### Limit example data\n",
    "\n",
    "Limit the list of LSOAs with data values for the colour map to just Devon and Cornwall:"
   ]
  },
  {
   "cell_type": "code",
   "execution_count": 21,
   "metadata": {},
   "outputs": [],
   "source": [
    "lsoa_values = pd.merge(\n",
    "    lsoa_values, lsoa_regions['LSOA11NM'],\n",
    "    left_on='LSOA11NM', right_on='LSOA11NM'\n",
    ")"
   ]
  },
  {
   "cell_type": "code",
   "execution_count": 22,
   "metadata": {},
   "outputs": [
    {
     "data": {
      "text/html": [
       "<div>\n",
       "<style scoped>\n",
       "    .dataframe tbody tr th:only-of-type {\n",
       "        vertical-align: middle;\n",
       "    }\n",
       "\n",
       "    .dataframe tbody tr th {\n",
       "        vertical-align: top;\n",
       "    }\n",
       "\n",
       "    .dataframe thead th {\n",
       "        text-align: right;\n",
       "    }\n",
       "</style>\n",
       "<table border=\"1\" class=\"dataframe\">\n",
       "  <thead>\n",
       "    <tr style=\"text-align: right;\">\n",
       "      <th></th>\n",
       "      <th>LSOA11NM</th>\n",
       "      <th>Value</th>\n",
       "    </tr>\n",
       "  </thead>\n",
       "  <tbody>\n",
       "    <tr>\n",
       "      <th>0</th>\n",
       "      <td>Cornwall 001A</td>\n",
       "      <td>8</td>\n",
       "    </tr>\n",
       "    <tr>\n",
       "      <th>1</th>\n",
       "      <td>Cornwall 001B</td>\n",
       "      <td>9</td>\n",
       "    </tr>\n",
       "    <tr>\n",
       "      <th>2</th>\n",
       "      <td>Cornwall 001C</td>\n",
       "      <td>10</td>\n",
       "    </tr>\n",
       "  </tbody>\n",
       "</table>\n",
       "</div>"
      ],
      "text/plain": [
       "        LSOA11NM  Value\n",
       "0  Cornwall 001A      8\n",
       "1  Cornwall 001B      9\n",
       "2  Cornwall 001C     10"
      ]
     },
     "execution_count": 22,
     "metadata": {},
     "output_type": "execute_result"
    }
   ],
   "source": [
    "lsoa_values.head(3)"
   ]
  },
  {
   "cell_type": "markdown",
   "metadata": {},
   "source": [
    "### Limit region coordinates\n",
    "\n",
    "Reduce the big coordinates file to just the selected Devon and Cornwall:"
   ]
  },
  {
   "cell_type": "code",
   "execution_count": 23,
   "metadata": {},
   "outputs": [],
   "source": [
    "lsoa_data_gdf = pd.merge(\n",
    "    lsoa_gdf, lsoa_values,\n",
    "    left_on='LSOA11NM', right_on='LSOA11NM',\n",
    "    how='right'\n",
    ")"
   ]
  },
  {
   "cell_type": "code",
   "execution_count": 24,
   "metadata": {},
   "outputs": [
    {
     "data": {
      "text/html": [
       "<div>\n",
       "<style scoped>\n",
       "    .dataframe tbody tr th:only-of-type {\n",
       "        vertical-align: middle;\n",
       "    }\n",
       "\n",
       "    .dataframe tbody tr th {\n",
       "        vertical-align: top;\n",
       "    }\n",
       "\n",
       "    .dataframe thead th {\n",
       "        text-align: right;\n",
       "    }\n",
       "</style>\n",
       "<table border=\"1\" class=\"dataframe\">\n",
       "  <thead>\n",
       "    <tr style=\"text-align: right;\">\n",
       "      <th></th>\n",
       "      <th>OBJECTID</th>\n",
       "      <th>LSOA11CD</th>\n",
       "      <th>LSOA11NM</th>\n",
       "      <th>LSOA11NMW</th>\n",
       "      <th>BNG_E</th>\n",
       "      <th>BNG_N</th>\n",
       "      <th>LONG</th>\n",
       "      <th>LAT</th>\n",
       "      <th>Shape__Area</th>\n",
       "      <th>Shape__Length</th>\n",
       "      <th>GlobalID</th>\n",
       "      <th>geometry</th>\n",
       "      <th>Value</th>\n",
       "    </tr>\n",
       "  </thead>\n",
       "  <tbody>\n",
       "    <tr>\n",
       "      <th>0</th>\n",
       "      <td>18398</td>\n",
       "      <td>E01018936</td>\n",
       "      <td>Cornwall 001A</td>\n",
       "      <td>Cornwall 001A</td>\n",
       "      <td>220882</td>\n",
       "      <td>106571</td>\n",
       "      <td>-4.54490</td>\n",
       "      <td>50.83088</td>\n",
       "      <td>1.373559e+06</td>\n",
       "      <td>7384.170606</td>\n",
       "      <td>6d92d38f-6679-4b97-ad95-df3fefc25787</td>\n",
       "      <td>POLYGON ((-4.53986 50.83432, -4.53621 50.83271...</td>\n",
       "      <td>8</td>\n",
       "    </tr>\n",
       "    <tr>\n",
       "      <th>1</th>\n",
       "      <td>18399</td>\n",
       "      <td>E01018937</td>\n",
       "      <td>Cornwall 001B</td>\n",
       "      <td>Cornwall 001B</td>\n",
       "      <td>221760</td>\n",
       "      <td>105842</td>\n",
       "      <td>-4.53209</td>\n",
       "      <td>50.82460</td>\n",
       "      <td>7.616657e+05</td>\n",
       "      <td>4522.389491</td>\n",
       "      <td>28aaa953-0fe2-4149-8687-4876120d81b4</td>\n",
       "      <td>POLYGON ((-4.53337 50.83238, -4.52715 50.82816...</td>\n",
       "      <td>9</td>\n",
       "    </tr>\n",
       "    <tr>\n",
       "      <th>2</th>\n",
       "      <td>18400</td>\n",
       "      <td>E01018938</td>\n",
       "      <td>Cornwall 001C</td>\n",
       "      <td>Cornwall 001C</td>\n",
       "      <td>220957</td>\n",
       "      <td>105185</td>\n",
       "      <td>-4.54316</td>\n",
       "      <td>50.81845</td>\n",
       "      <td>2.791581e+06</td>\n",
       "      <td>7688.786398</td>\n",
       "      <td>57818010-7a8d-4343-8276-b29c76f2b5dc</td>\n",
       "      <td>POLYGON ((-4.53894 50.82536, -4.53572 50.82139...</td>\n",
       "      <td>10</td>\n",
       "    </tr>\n",
       "  </tbody>\n",
       "</table>\n",
       "</div>"
      ],
      "text/plain": [
       "   OBJECTID   LSOA11CD       LSOA11NM      LSOA11NMW   BNG_E   BNG_N     LONG  \\\n",
       "0     18398  E01018936  Cornwall 001A  Cornwall 001A  220882  106571 -4.54490   \n",
       "1     18399  E01018937  Cornwall 001B  Cornwall 001B  221760  105842 -4.53209   \n",
       "2     18400  E01018938  Cornwall 001C  Cornwall 001C  220957  105185 -4.54316   \n",
       "\n",
       "        LAT   Shape__Area  Shape__Length  \\\n",
       "0  50.83088  1.373559e+06    7384.170606   \n",
       "1  50.82460  7.616657e+05    4522.389491   \n",
       "2  50.81845  2.791581e+06    7688.786398   \n",
       "\n",
       "                               GlobalID  \\\n",
       "0  6d92d38f-6679-4b97-ad95-df3fefc25787   \n",
       "1  28aaa953-0fe2-4149-8687-4876120d81b4   \n",
       "2  57818010-7a8d-4343-8276-b29c76f2b5dc   \n",
       "\n",
       "                                            geometry  Value  \n",
       "0  POLYGON ((-4.53986 50.83432, -4.53621 50.83271...      8  \n",
       "1  POLYGON ((-4.53337 50.83238, -4.52715 50.82816...      9  \n",
       "2  POLYGON ((-4.53894 50.82536, -4.53572 50.82139...     10  "
      ]
     },
     "execution_count": 24,
     "metadata": {},
     "output_type": "execute_result"
    }
   ],
   "source": [
    "lsoa_data_gdf.head(3)"
   ]
  },
  {
   "cell_type": "markdown",
   "metadata": {},
   "source": [
    "### Limit hospital locations\n",
    "\n",
    "Limit hospital data to those in Devon and Cornwall.\n",
    "\n",
    "Here the hospital postcodes have been picked out manually."
   ]
  },
  {
   "cell_type": "code",
   "execution_count": 25,
   "metadata": {},
   "outputs": [],
   "source": [
    "hospitals_in_region = [\n",
    "    'EX314JB',\n",
    "    'PL68DH',\n",
    "    'TR13LQ',\n",
    "    'EX25DW',\n",
    "    'TQ27AA',\n",
    "    ]\n",
    "mask = hospitals_gdf['Postcode'].isin(hospitals_in_region)\n",
    "hospitals_gdf = hospitals_gdf[mask]"
   ]
  },
  {
   "cell_type": "code",
   "execution_count": 26,
   "metadata": {},
   "outputs": [
    {
     "data": {
      "text/html": [
       "<div>\n",
       "<style scoped>\n",
       "    .dataframe tbody tr th:only-of-type {\n",
       "        vertical-align: middle;\n",
       "    }\n",
       "\n",
       "    .dataframe tbody tr th {\n",
       "        vertical-align: top;\n",
       "    }\n",
       "\n",
       "    .dataframe thead th {\n",
       "        text-align: right;\n",
       "    }\n",
       "</style>\n",
       "<table border=\"1\" class=\"dataframe\">\n",
       "  <thead>\n",
       "    <tr style=\"text-align: right;\">\n",
       "      <th></th>\n",
       "      <th>Postcode</th>\n",
       "      <th>Hospital_name</th>\n",
       "      <th>Use_IVT</th>\n",
       "      <th>Use_MT</th>\n",
       "      <th>Use_MSU</th>\n",
       "      <th>Country</th>\n",
       "      <th>Strategic Clinical Network</th>\n",
       "      <th>Health Board / Trust</th>\n",
       "      <th>Stroke Team</th>\n",
       "      <th>SSNAP name</th>\n",
       "      <th>...</th>\n",
       "      <th>ivt_rate</th>\n",
       "      <th>Easting</th>\n",
       "      <th>Northing</th>\n",
       "      <th>long</th>\n",
       "      <th>lat</th>\n",
       "      <th>Neuroscience</th>\n",
       "      <th>30 England Thrombectomy Example</th>\n",
       "      <th>hospital_city</th>\n",
       "      <th>Notes</th>\n",
       "      <th>geometry</th>\n",
       "    </tr>\n",
       "  </thead>\n",
       "  <tbody>\n",
       "    <tr>\n",
       "      <th>104</th>\n",
       "      <td>EX314JB</td>\n",
       "      <td>EX314JB</td>\n",
       "      <td>1</td>\n",
       "      <td>0</td>\n",
       "      <td>0</td>\n",
       "      <td>England</td>\n",
       "      <td>South West SCN</td>\n",
       "      <td>Northern Devon Healthcare NHS Trust</td>\n",
       "      <td>North Devon District Hospital, Barnstaple</td>\n",
       "      <td>North Devon District Hospital</td>\n",
       "      <td>...</td>\n",
       "      <td>11.1</td>\n",
       "      <td>256506</td>\n",
       "      <td>134540</td>\n",
       "      <td>-4.05043137675056</td>\n",
       "      <td>51.092168764225</td>\n",
       "      <td>0</td>\n",
       "      <td>0</td>\n",
       "      <td>Barnstaple</td>\n",
       "      <td></td>\n",
       "      <td>POINT (-4.05043 51.09217)</td>\n",
       "    </tr>\n",
       "    <tr>\n",
       "      <th>105</th>\n",
       "      <td>PL68DH</td>\n",
       "      <td>PL68DH</td>\n",
       "      <td>1</td>\n",
       "      <td>1</td>\n",
       "      <td>1</td>\n",
       "      <td>England</td>\n",
       "      <td>South West SCN</td>\n",
       "      <td>Plymouth Hospitals NHS Trust</td>\n",
       "      <td>Derriford Hospital, Plymouth</td>\n",
       "      <td>Derriford Hospital</td>\n",
       "      <td>...</td>\n",
       "      <td>10.2</td>\n",
       "      <td>249930</td>\n",
       "      <td>59564</td>\n",
       "      <td>-4.11368447542683</td>\n",
       "      <td>50.4167199488232</td>\n",
       "      <td>1</td>\n",
       "      <td>1</td>\n",
       "      <td>Plymouth</td>\n",
       "      <td></td>\n",
       "      <td>POINT (-4.11368 50.41672)</td>\n",
       "    </tr>\n",
       "    <tr>\n",
       "      <th>106</th>\n",
       "      <td>TR13LQ</td>\n",
       "      <td>TR13LQ</td>\n",
       "      <td>1</td>\n",
       "      <td>0</td>\n",
       "      <td>0</td>\n",
       "      <td>England</td>\n",
       "      <td>South West SCN</td>\n",
       "      <td>Royal Cornwall Hospitals NHS Trust</td>\n",
       "      <td>Royal Cornwall Hospital, Truro</td>\n",
       "      <td>Royal Cornwall Hospital</td>\n",
       "      <td>...</td>\n",
       "      <td>6.5</td>\n",
       "      <td>179581</td>\n",
       "      <td>45313</td>\n",
       "      <td>-5.09426260732006</td>\n",
       "      <td>50.2665574865421</td>\n",
       "      <td>0</td>\n",
       "      <td>0</td>\n",
       "      <td>Truro</td>\n",
       "      <td></td>\n",
       "      <td>POINT (-5.09426 50.26656)</td>\n",
       "    </tr>\n",
       "  </tbody>\n",
       "</table>\n",
       "<p>3 rows × 22 columns</p>\n",
       "</div>"
      ],
      "text/plain": [
       "    Postcode Hospital_name Use_IVT Use_MT Use_MSU  Country  \\\n",
       "104  EX314JB       EX314JB       1      0       0  England   \n",
       "105   PL68DH        PL68DH       1      1       1  England   \n",
       "106   TR13LQ        TR13LQ       1      0       0  England   \n",
       "\n",
       "    Strategic Clinical Network                 Health Board / Trust  \\\n",
       "104             South West SCN  Northern Devon Healthcare NHS Trust   \n",
       "105             South West SCN         Plymouth Hospitals NHS Trust   \n",
       "106             South West SCN   Royal Cornwall Hospitals NHS Trust   \n",
       "\n",
       "                                   Stroke Team                     SSNAP name  \\\n",
       "104  North Devon District Hospital, Barnstaple  North Devon District Hospital   \n",
       "105               Derriford Hospital, Plymouth             Derriford Hospital   \n",
       "106             Royal Cornwall Hospital, Truro        Royal Cornwall Hospital   \n",
       "\n",
       "     ... ivt_rate Easting Northing               long               lat  \\\n",
       "104  ...     11.1  256506   134540  -4.05043137675056   51.092168764225   \n",
       "105  ...     10.2  249930    59564  -4.11368447542683  50.4167199488232   \n",
       "106  ...      6.5  179581    45313  -5.09426260732006  50.2665574865421   \n",
       "\n",
       "    Neuroscience 30 England Thrombectomy Example hospital_city Notes  \\\n",
       "104            0                               0    Barnstaple         \n",
       "105            1                               1      Plymouth         \n",
       "106            0                               0         Truro         \n",
       "\n",
       "                      geometry  \n",
       "104  POINT (-4.05043 51.09217)  \n",
       "105  POINT (-4.11368 50.41672)  \n",
       "106  POINT (-5.09426 50.26656)  \n",
       "\n",
       "[3 rows x 22 columns]"
      ]
     },
     "execution_count": 26,
     "metadata": {},
     "output_type": "execute_result"
    }
   ],
   "source": [
    "hospitals_gdf.head(3)"
   ]
  },
  {
   "cell_type": "markdown",
   "metadata": {},
   "source": [
    "## Create the map\n",
    "\n",
    "The following cells are specific to this map type."
   ]
  },
  {
   "cell_type": "code",
   "execution_count": 30,
   "metadata": {},
   "outputs": [
    {
     "name": "stderr",
     "output_type": "stream",
     "text": [
      "/home/anna/miniconda3/lib/python3.9/site-packages/geopandas/plotting.py:730: FutureWarning: is_categorical_dtype is deprecated and will be removed in a future version. Use isinstance(dtype, CategoricalDtype) instead\n",
      "  if pd.api.types.is_categorical_dtype(values.dtype):\n"
     ]
    },
    {
     "data": {
      "image/png": "[encoded data removed]",
      "text/plain": [
       "<Figure size 600x600 with 2 Axes>"
      ]
     },
     "metadata": {},
     "output_type": "display_data"
    }
   ],
   "source": [
    "range = max(np.abs(np.max(lsoa_data_gdf['Value'])),\n",
    "            np.abs(np.min(lsoa_data_gdf['Value'])))\n",
    "\n",
    "fig, ax = plt.subplots(figsize=(6, 6)) # Make max dimensions XxY inch\n",
    "\n",
    "# Draw the main map with colours (choropleth):\n",
    "lsoa_data_gdf.plot(\n",
    "    ax=ax,              # Set which axes to use for plot (only one here)\n",
    "    column='Value',     # Column to apply colour\n",
    "    antialiased=False,  # Avoids artifact boundry lines\n",
    "    edgecolor='face',   # Make LSOA boundry same colour as area\n",
    "    # vmin=-range,        # Manual scale min (remove to make automatic)\n",
    "    # vmax=range,         # Manual scale max (remove to make automatic)\n",
    "    cmap='viridis',     # Colour map to use\n",
    "    legend_kwds={\n",
    "        'shrink':0.5,   # Adjust size of colourmap key\n",
    "        'label':'Dummy data'  # Add label\n",
    "    },\n",
    "    legend=True         # Set to display legend\n",
    "    )\n",
    "\n",
    "# Scatter marker for each hospital:\n",
    "hospitals_gdf.plot(\n",
    "    ax=ax,\n",
    "    edgecolor='k',\n",
    "    facecolor='w',\n",
    "    markersize=50, \n",
    "    marker='o'\n",
    "    )\n",
    "\n",
    "# Scatter marker star for MT/MSU units:\n",
    "mask = hospitals_gdf['Use_MT'] == '1'\n",
    "MSU = hospitals_gdf[mask]\n",
    "MSU.plot(\n",
    "    ax=ax,\n",
    "    edgecolor='k',\n",
    "    facecolor='y',\n",
    "    markersize=300,\n",
    "    marker='*'\n",
    "    )\n",
    "\n",
    "# Add labels\n",
    "# Define \"z\" to shorten following \"for\" line:\n",
    "z = zip(\n",
    "    hospitals_gdf.geometry.x,\n",
    "    hospitals_gdf.geometry.y,\n",
    "    hospitals_gdf.Hospital_name\n",
    "    )\n",
    "for x, y, label in z:\n",
    "    # Edit the label to put a space in the postcode when displayed:\n",
    "    label = f'{label[:-3]} {label[-3:]}'\n",
    "    # Place the label slightly offset from the\n",
    "    # exact hospital coordinates (x, y).\n",
    "    ax.annotate(\n",
    "        label, xy=(x, y), xytext=(8, 8),\n",
    "        textcoords=\"offset points\",\n",
    "        backgroundcolor=\"w\", fontsize=8\n",
    "        )\n",
    "\n",
    "ax.set_axis_off()  # Turn off axis line and numbers\n",
    "plt.savefig('example_map_geopandas.jpg', dpi=300, bbox_inches='tight')  # Save figure\n",
    "plt.show()"
   ]
  },
  {
   "cell_type": "code",
   "execution_count": null,
   "metadata": {},
   "outputs": [],
   "source": []
  }
 ],
 "metadata": {
  "kernelspec": {
   "display_name": "Python 3 (ipykernel)",
   "language": "python",
   "name": "python3"
  },
  "language_info": {
   "codemirror_mode": {
    "name": "ipython",
    "version": 3
   },
   "file_extension": ".py",
   "mimetype": "text/x-python",
   "name": "python",
   "nbconvert_exporter": "python",
   "pygments_lexer": "ipython3",
   "version": "3.9.16"
  }
 },
 "nbformat": 4,
 "nbformat_minor": 4
}
